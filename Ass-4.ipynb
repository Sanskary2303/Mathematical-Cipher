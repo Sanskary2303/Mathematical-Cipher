{
  "nbformat": 4,
  "nbformat_minor": 0,
  "metadata": {
    "colab": {
      "provenance": []
    },
    "kernelspec": {
      "name": "python3",
      "display_name": "Python 3"
    },
    "language_info": {
      "name": "python"
    }
  },
  "cells": [
    {
      "cell_type": "code",
      "execution_count": 12,
      "metadata": {
        "id": "PF-vfBYR-qta",
        "colab": {
          "base_uri": "https://localhost:8080/",
          "height": 349
        },
        "outputId": "0fc3b665-4e3f-472f-ec04-b60fa3cb3fd8"
      },
      "outputs": [
        {
          "output_type": "error",
          "ename": "SyntaxError",
          "evalue": "invalid decimal literal (number.py, line 139)",
          "traceback": [
            "Traceback \u001b[0;36m(most recent call last)\u001b[0m:\n",
            "  File \u001b[1;32m\"/usr/local/lib/python3.10/dist-packages/IPython/core/interactiveshell.py\"\u001b[0m, line \u001b[1;32m3553\u001b[0m, in \u001b[1;35mrun_code\u001b[0m\n    exec(code_obj, self.user_global_ns, self.user_ns)\n",
            "  File \u001b[1;32m\"<ipython-input-12-1586d3b60348>\"\u001b[0m, line \u001b[1;32m1\u001b[0m, in \u001b[1;35m<cell line: 1>\u001b[0m\n    from Crypto.Cipher import AES, PKCS1_OAEP\n",
            "  File \u001b[1;32m\"/usr/local/lib/python3.10/dist-packages/Crypto/Cipher/PKCS1_OAEP.py\"\u001b[0m, line \u001b[1;32m57\u001b[0m, in \u001b[1;35m<module>\u001b[0m\n    import Crypto.Signature.PKCS1_PSS\n",
            "\u001b[0;36m  File \u001b[0;32m\"/usr/local/lib/python3.10/dist-packages/Crypto/Signature/PKCS1_PSS.py\"\u001b[0;36m, line \u001b[0;32m72\u001b[0;36m, in \u001b[0;35m<module>\u001b[0;36m\u001b[0m\n\u001b[0;31m    import Crypto.Util.number\u001b[0m\n",
            "\u001b[0;36m  File \u001b[0;32m\"/usr/local/lib/python3.10/dist-packages/Crypto/Util/number.py\"\u001b[0;36m, line \u001b[0;32m139\u001b[0m\n\u001b[0;31m    value |= 2L ** (N-1)                # Ensure high bit is set\u001b[0m\n\u001b[0m             ^\u001b[0m\n\u001b[0;31mSyntaxError\u001b[0m\u001b[0;31m:\u001b[0m invalid decimal literal\n"
          ]
        }
      ],
      "source": [
        "from Crypto.Cipher import AES, PKCS1_OAEP\n",
        "from Crypto.PublicKey import RSA\n",
        "from Crypto.Random import get_random_bytes\n",
        "import os\n",
        "\n",
        "def divide_into_chunks(input_file, chunk_size):\n",
        "    with open(input_file, 'rb') as f:\n",
        "        while True:\n",
        "            chunk = f.read(chunk_size)\n",
        "            if not chunk:\n",
        "                break\n",
        "            yield chunk\n",
        "\n",
        "def encrypt_chunk(key, chunk):\n",
        "    cipher = AES.new(key, AES.MODE_GCM)\n",
        "    ciphertext, tag = cipher.encrypt_and_digest(chunk)\n",
        "    return cipher.nonce + tag + ciphertext\n",
        "\n",
        "def decrypt_chunk(key, encrypted_chunk):\n",
        "    nonce = encrypted_chunk[:16]\n",
        "    tag = encrypted_chunk[16:32]\n",
        "    ciphertext = encrypted_chunk[32:]\n",
        "    cipher = AES.new(key, AES.MODE_GCM, nonce=nonce)\n",
        "    decrypted_chunk = cipher.decrypt_and_verify(ciphertext, tag)\n",
        "    return decrypted_chunk\n",
        "\n",
        "def encrypt_aes_key(aes_key, rsa_public_key):\n",
        "    cipher_rsa = PKCS1_OAEP.new(rsa_public_key)\n",
        "    encrypted_key = cipher_rsa.encrypt(aes_key)\n",
        "    return encrypted_key\n",
        "\n",
        "\n",
        "def decrypt_aes_key(encrypted_aes_key, rsa_private_key):\n",
        "    cipher_rsa = PKCS1_OAEP.new(rsa_private_key)\n",
        "    aes_key = cipher_rsa.decrypt(encrypted_aes_key)\n",
        "    return aes_key\n",
        "\n",
        "\n",
        "def generate_aes_key():\n",
        "    return get_random_bytes(32)\n",
        "\n",
        "\n",
        "def generate_rsa_key_pair():\n",
        "    return RSA.generate(2048)\n",
        "\n",
        "if __name__ == \"__main__\":\n",
        "    input_file = 'large_file.txt'\n",
        "    chunk_size = 1024 * 1024\n",
        "\n",
        "    rsa_key_pair = generate_rsa_key_pair()\n",
        "    rsa_public_key = rsa_key_pair.publickey()\n",
        "    rsa_private_key = rsa_key_pair\n",
        "\n",
        "    chunk_generator = divide_into_chunks(input_file, chunk_size)\n",
        "\n",
        "    encrypted_chunks = []\n",
        "    for chunk in chunk_generator:\n",
        "        aes_key = generate_aes_key()\n",
        "        encrypted_aes_key = encrypt_aes_key(aes_key, rsa_public_key)\n",
        "        encrypted_chunk = encrypt_chunk(aes_key, chunk)\n",
        "        encrypted_chunks.append((encrypted_aes_key, encrypted_chunk))\n",
        "\n",
        "    output_file = 'reassembled_file.txt'\n",
        "    with open(output_file, 'wb') as f:\n",
        "        for encrypted_aes_key, encrypted_chunk in encrypted_chunks:\n",
        "            aes_key = decrypt_aes_key(encrypted_aes_key, rsa_private_key)\n",
        "            decrypted_chunk = decrypt_chunk(aes_key, encrypted_chunk)\n",
        "            f.write(decrypted_chunk)\n",
        "\n",
        "    print(f\"File reassembled: {output_file}\")\n"
      ]
    },
    {
      "cell_type": "code",
      "source": [],
      "metadata": {
        "id": "YV322AnGJ42M"
      },
      "execution_count": null,
      "outputs": []
    }
  ]
}