{
  "nbformat": 4,
  "nbformat_minor": 0,
  "metadata": {
    "colab": {
      "provenance": []
    },
    "kernelspec": {
      "name": "python3",
      "display_name": "Python 3"
    },
    "language_info": {
      "name": "python"
    }
  },
  "cells": [
    {
      "cell_type": "markdown",
      "source": [
        "# Q.1 answer\n",
        "\n",
        "No, the shift cipher isn't perfectly secret. It can be easily decrypted within 26 moves.\n",
        "TO MAKE IT PERFECTLY SECRET,\n",
        "Shift cipher or ceasar cipher attains perfect secrecy only in the special case with the assumption that 26 keys are used in equal probability in the shift cipher, and to encrypt each symbol we use a different key which is choosen equiprobably (i.e. perfectly random) from the key space."
      ],
      "metadata": {
        "id": "MDbBoXNij47B"
      }
    },
    {
      "cell_type": "markdown",
      "source": [
        "#Q.2 answer\n",
        "\n",
        "Here's the code for encrypting text messages using shift cypher:"
      ],
      "metadata": {
        "id": "mIIVYMA2pJOF"
      }
    },
    {
      "cell_type": "code",
      "execution_count": null,
      "metadata": {
        "colab": {
          "base_uri": "https://localhost:8080/"
        },
        "id": "ucNZwwzOj2CN",
        "outputId": "3ffd9664-b765-4a72-d4ee-b3a7ad284be2"
      },
      "outputs": [
        {
          "output_type": "stream",
          "name": "stdout",
          "text": [
            "Uijt xbt FbAz\n"
          ]
        }
      ],
      "source": [
        "def Enc(m, k):\n",
        "  cyphertext=\"\"\n",
        "  for i in (m):\n",
        "    if(0<=((((ord(i))-65))) and ((((ord(i))-65))) <26):\n",
        "      cyphertext+=chr((((ord(i) + k)-65)%26)+65)\n",
        "    elif(0<=((((ord(i))-97))) and ((((ord(i))-97)%26)) <26):\n",
        "      cyphertext+=chr((((ord(i) + k)-97)%26)+97)\n",
        "    else:\n",
        "      cyphertext+=i\n",
        "  return cyphertext\n",
        "print(Enc(\"This was EaZy\",1))\n"
      ]
    },
    {
      "cell_type": "code",
      "source": [
        "print(Enc(\"iitk is better than iitb and iitd\",9))\n",
        "print(Enc(\"lets learn cryptography\",25))"
      ],
      "metadata": {
        "colab": {
          "base_uri": "https://localhost:8080/"
        },
        "id": "C044vcsNBso5",
        "outputId": "98e25986-3875-42c8-c814-921565acd58f"
      },
      "execution_count": null,
      "outputs": [
        {
          "output_type": "stream",
          "name": "stdout",
          "text": [
            "rrct rb knccna cqjw rrck jwm rrcm\n",
            "kdsr kdzqm bqxosnfqzogx\n"
          ]
        }
      ]
    },
    {
      "cell_type": "markdown",
      "source": [
        "Respective answers to encoding the given sentences are ;\n",
        "\n",
        "1.   rrct rb knccna cqjw rrck jwm rrcm\n",
        "\n",
        "2.   kdsr kdzqm bqxosnfqzogx\n",
        "\n"
      ],
      "metadata": {
        "id": "k5wjg8D6GUO0"
      }
    },
    {
      "cell_type": "code",
      "source": [
        "for i in range (0,26):\n",
        "  print(Enc(\"bm ptl wtfg xtlr tztbg\",-1*i))"
      ],
      "metadata": {
        "colab": {
          "base_uri": "https://localhost:8080/"
        },
        "id": "rzFcIZ6hGca7",
        "outputId": "d463982a-b4f2-4d54-b0ce-faef7767ccf9"
      },
      "execution_count": null,
      "outputs": [
        {
          "output_type": "stream",
          "name": "stdout",
          "text": [
            "bm ptl wtfg xtlr tztbg\n",
            "al osk vsef wskq sysaf\n",
            "zk nrj urde vrjp rxrze\n",
            "yj mqi tqcd uqio qwqyd\n",
            "xi lph spbc tphn pvpxc\n",
            "wh kog roab sogm ouowb\n",
            "vg jnf qnza rnfl ntnva\n",
            "uf ime pmyz qmek msmuz\n",
            "te hld olxy pldj lrlty\n",
            "sd gkc nkwx okci kqksx\n",
            "rc fjb mjvw njbh jpjrw\n",
            "qb eia liuv miag ioiqv\n",
            "pa dhz khtu lhzf hnhpu\n",
            "oz cgy jgst kgye gmgot\n",
            "ny bfx ifrs jfxd flfns\n",
            "mx aew heqr iewc ekemr\n",
            "lw zdv gdpq hdvb djdlq\n",
            "kv ycu fcop gcua cickp\n",
            "ju xbt ebno fbtz bhbjo\n",
            "it was damn easy again\n",
            "hs vzr czlm dzrx zfzhm\n",
            "gr uyq bykl cyqw yeygl\n",
            "fq txp axjk bxpv xdxfk\n",
            "ep swo zwij awou wcwej\n",
            "do rvn yvhi zvnt vbvdi\n",
            "cn qum xugh yums uauch\n"
          ]
        }
      ]
    },
    {
      "cell_type": "markdown",
      "source": [
        "Most logical answer : it was damn easy again.\n",
        "This seems to be the original text before encryption"
      ],
      "metadata": {
        "id": "2-hr4Xq6G3VE"
      }
    },
    {
      "cell_type": "code",
      "source": [
        "for i in range (0,26):\n",
        "  print(Enc(\"rc fjb mjvw njbh\",-1*i))"
      ],
      "metadata": {
        "colab": {
          "base_uri": "https://localhost:8080/"
        },
        "id": "4UhBZE1-G-v8",
        "outputId": "61a9f7d8-693b-4834-f35a-e5669f59ec67"
      },
      "execution_count": null,
      "outputs": [
        {
          "output_type": "stream",
          "name": "stdout",
          "text": [
            "rc fjb mjvw njbh\n",
            "qb eia liuv miag\n",
            "pa dhz khtu lhzf\n",
            "oz cgy jgst kgye\n",
            "ny bfx ifrs jfxd\n",
            "mx aew heqr iewc\n",
            "lw zdv gdpq hdvb\n",
            "kv ycu fcop gcua\n",
            "ju xbt ebno fbtz\n",
            "it was damn easy\n",
            "hs vzr czlm dzrx\n",
            "gr uyq bykl cyqw\n",
            "fq txp axjk bxpv\n",
            "ep swo zwij awou\n",
            "do rvn yvhi zvnt\n",
            "cn qum xugh yums\n",
            "bm ptl wtfg xtlr\n",
            "al osk vsef wskq\n",
            "zk nrj urde vrjp\n",
            "yj mqi tqcd uqio\n",
            "xi lph spbc tphn\n",
            "wh kog roab sogm\n",
            "vg jnf qnza rnfl\n",
            "uf ime pmyz qmek\n",
            "te hld olxy pldj\n",
            "sd gkc nkwx okci\n"
          ]
        }
      ]
    },
    {
      "cell_type": "markdown",
      "source": [
        "Most logical answer : it was damn easy.\n",
        "This seems to be the original text before encryption"
      ],
      "metadata": {
        "id": "CiSdfL54HJVQ"
      }
    }
  ]
}