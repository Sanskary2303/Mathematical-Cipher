{
  "nbformat": 4,
  "nbformat_minor": 0,
  "metadata": {
    "colab": {
      "provenance": []
    },
    "kernelspec": {
      "name": "python3",
      "display_name": "Python 3"
    },
    "language_info": {
      "name": "python"
    }
  },
  "cells": [
    {
      "cell_type": "code",
      "source": [
        "import numpy as np\n",
        "ciphertext='F96DE8C227A259C87EE1DA2AED57C93FE5DA36ED4EC87EF2C63AAE5B9A7EFFD673BE4ACF7BE8923CAB1ECE7AF2DA3DA44FCF7AE29235A24C963FF0DF3CA3599A70E5DA36BF1ECE77F8DC34BE129A6CF4D126BF5B9A7CFEDF3EB850D37CF0C63AA2509A76FF9227A55B9A6FE3D720A850D97AB1DD35ED5FCE6BF0D138A84CC931B1F121B44ECE70F6C032BD56C33FF9D320ED5CDF7AFF9226BE5BDE3FF7DD21ED56CF71F5C036A94D963FF8D473A351CE3FE5DA3CB84DDB71F5C17FED51DC3FE8D732BF4D963FF3C727ED4AC87EF5DB27A451D47EFD9230BF47CA6BFEC12ABE4ADF72E29224A84CDF3FF5D720A459D47AF59232A35A9A7AE7D33FB85FCE7AF5923AA31EDB3FF7D33ABF52C33FF0D673A551D93FFCD33DA35BC831B1F43CBF1EDF67F0DF23A15B963FE5DA36ED68D378F4DC36BF5B9A7AFFD121B44ECE76FEDC73BE5DD27AFCD773BA5FC93FE5DA3CB859D26BB1C63CED5CDF3FE2D730B84CDF3FF7DD21ED5ADF7CF0D636BE1EDB79E5D721ED57CE3FE6D320ED57D469F4DC27A85A963FF3C727ED49DF3FFFDD24ED55D470E69E73AC50DE3FE5DA3ABE1EDF67F4C030A44DDF3FF5D73EA250C96BE3D327A84D963FE5DA32B91ED36BB1D132A31ED87AB1D021A255DF71B1C436BF479A7AF0C13AA14794'\n",
        "import collections\n",
        "import statistics"
      ],
      "metadata": {
        "id": "FaiiPnhvBVMD"
      },
      "execution_count": null,
      "outputs": []
    },
    {
      "cell_type": "code",
      "source": [
        "print(np.base_repr(int('6A', 16), base=2))"
      ],
      "metadata": {
        "colab": {
          "base_uri": "https://localhost:8080/"
        },
        "id": "xMf51N9cCOIK",
        "outputId": "1a052c63-cc8a-4f31-9720-34e6f6bb40ee"
      },
      "execution_count": null,
      "outputs": [
        {
          "output_type": "stream",
          "name": "stdout",
          "text": [
            "1101010\n"
          ]
        }
      ]
    },
    {
      "cell_type": "code",
      "source": [
        "def to4DigitBin(value):\n",
        "\n",
        "    # Converts given binary value into 4-digit\n",
        "    # Binary representation.\n",
        "    # If given value is '10', it returns '0010'\n",
        "    # i.e. 2 times '0' + '10'='00'+'10'\n",
        "    return '0'*(4-len(value))+value\n",
        "\n",
        "def HexadecimalToBinary(inputHexadecimal):\n",
        "    resultBinary = '' # Initialize Empty string\n",
        "    inputHexadecimal=inputHexadecimal.upper()\n",
        "    for eachElement in inputHexadecimal:\n",
        "\n",
        "        # If it's a number digit (in 0 to 9), find it's binary form.\n",
        "        if(eachElement.isdigit()):\n",
        "\n",
        "            # Here bin(number) function returns Binary\n",
        "            # representation of number\n",
        "            # Ex: bin(10) returns '0b1010', so slice away\n",
        "            # the first 2 characters to get '1010'\n",
        "            binaryOfSingleDigit = bin(int(eachElement))[2:]\n",
        "\n",
        "            # Now add the 4-digit Binary representation to\n",
        "            # result string\n",
        "            resultBinary += to4DigitBin(binaryOfSingleDigit)\n",
        "\n",
        "        # Since the element is alphabet (in A to E), (assuming\n",
        "        # only capital letters)\n",
        "        # 'ord(element)-65+10' gives the number representation\n",
        "        # ranging 10 to 16 (for A to E)\n",
        "        # Ex: For 'B', ord('B')=66, thus 'ord('B')-65+10' => '\n",
        "        # 66-65+10' => '11'\n",
        "        elif(eachElement.isalpha() and ord(eachElement) < 71):\n",
        "            resultBinary += to4DigitBin(bin(ord(eachElement)-55)[2:])\n",
        "\n",
        "        # If invalid character is present\n",
        "        else:\n",
        "            resultBinary = 'Invalid hexadecimal digit: ' + eachElement\n",
        "            break\n",
        "\n",
        "    return  resultBinary\n",
        "\n",
        "# Driver code\n",
        "inputHexadecimal = '1AC5'   # input('Enter Hexadecimal: ')\n",
        "binary_string=HexadecimalToBinary(ciphertext)\n",
        "print(len(binary_string))\n",
        "assert(len(binary_string)/4==len(ciphertext))"
      ],
      "metadata": {
        "colab": {
          "base_uri": "https://localhost:8080/"
        },
        "id": "8IpcQbkCDcBi",
        "outputId": "563f3811-bf9e-4ae4-d486-6171f74eea23"
      },
      "execution_count": null,
      "outputs": [
        {
          "output_type": "stream",
          "name": "stdout",
          "text": [
            "3760\n"
          ]
        }
      ]
    },
    {
      "cell_type": "code",
      "source": [
        "print(len(ciphertext))\n",
        "key='Hello'.encode()\n",
        "from binascii import hexlify\n",
        "print(hexlify(key).decode())\n",
        "binary_key=HexadecimalToBinary(hexlify(key).decode())\n",
        "print(binary_key)\n",
        "print(len(binary_key))\n",
        "binary_key=HexadecimalToBinary(ciphertext)\n",
        "print(binary_key)\n",
        "print(len(binary_key))\n",
        "no=[]\n",
        "for i in range(0,len(binary_key),8):\n",
        " if(binary_key[i]=='1'):\n",
        "  no.append(i)\n",
        "print(no)\n",
        "#Logic: every bit at 8*N+1 position must be 0 for ASCII conversion to work. We can look at the patterns of 0s that appear on these positions and can conclude that key length=N=7\n",
        "#16 8 16 16 ,16 8 16 16 ,16 8 16 16 ,16 8 16 16 ,16 8 16 16 ,16 8 16 16,\n",
        "#kEY LENGTH is 7 (hexadecimal numbers)\n",
        "#Initial expected number of trials : 128^7 (the 2nd, 5th and 7th numbers must be <80, while others must be >=80)"
      ],
      "metadata": {
        "colab": {
          "base_uri": "https://localhost:8080/"
        },
        "id": "paPZ--ttFpKV",
        "outputId": "fff406fa-ba7f-44fe-dadd-a9dcc14b38b7"
      },
      "execution_count": null,
      "outputs": [
        {
          "output_type": "stream",
          "name": "stdout",
          "text": [
            "940\n",
            "48656c6c6f\n",
            "0100100001100101011011000110110001101111\n",
            "40\n",
            "1111100101101101111010001100001000100111101000100101100111001000011111101110000111011010001010101110110101010111110010010011111111100101110110100011011011101101010011101100100001111110111100101100011000111010101011100101101110011010011111101111111111010110011100111011111001001010110011110111101111101000100100100011110010101011000111101100111001111010111100101101101000111101101001000100111111001111011110101110001010010010001101011010001001001100100101100011111111110000110111110011110010100011010110011001101001110000111001011101101000110110101111110001111011001110011101111111100011011100001101001011111000010010100110100110110011110100110100010010011010111111010110111001101001111100111111101101111100111110101110000101000011010011011111001111000011000110001110101010001001010000100110100111011011111111100100100010011110100101010110111001101001101111111000111101011100100000101010000101000011011001011110101011000111011101001101011110110101011111110011100110101111110000110100010011100010101000010011001100100100110001101100011111000100100001101101000100111011001110011100001111011011000000001100101011110101010110110000110011111111111001110100110010000011101101010111001101111101111010111111111001001000100110101111100101101111011110001111111111011111011101001000011110110101010110110011110111000111110101110000000011011010101001010011011001011000111111111110001101010001110011101000110101000111001110001111111110010111011010001111001011100001001101110110110111000111110101110000010111111111101101010100011101110000111111111010001101011100110010101111110100110110010110001111111111001111000111001001111110110101001010110010000111111011110101110110110010011110100100010100011101010001111110111111011001001000110000101111110100011111001010011010111111111011000001001010101011111001001010110111110111001011100010100100100010010010101000010011001101111100111111111101011101011100100000101001000101100111010100011110101111010110010010001100101010001101011010100110100111101011100111110100110011111110111000010111111100111001111010111101011001001000111010101000110001111011011011001111111111011111010011001110101011111101010010110000110011111111110000110101100111001110100101010100011101100100111111111111001101001100111101101000110101101111001000001100011011000111110100001111001011111100011110110111110110011111110000110111110010001110100001010110111001011000111111111001011101101000110110111011010110100011010011011110001111010011011100001101101011111101011011100110100111101011111111110100010010000110110100010011101100111001110110111111101101110001110011101111100101110111010010011110101111110011010111011100111011101001011111110010010011111111100101110110100011110010111000010110011101001001101011101100011100011000111100111011010101110011011111001111111110001011010111001100001011100001001100110111110011111111110111110111010010000111101101010110101101111101111100111100001101011000110110101111100001111011011011011110011110010111010111001000011110110101010111110011100011111111100110110100110010000011101101010101111101010001101001111101001101110000100111101010000101101010010110001111111111001111000111001001111110110101001001110111110011111111111111110111010010010011101101010101011101010001110000111001101001111001110011101011000101000011011110001111111110010111011010001110101011111000011110110111110110011111110100110000000011000010100100010011011101111100111111111101011101011100111110101000100101000011001001011010111110001111010011001001111010100001001101100101100011111111100101110110100011001010111001000111101101001101101011101100011101000100110010101000110001111011011000011110101011000111010000001000011010001001010101110111110111000110110001110001000011011010111111010001111001101001111010111100001100000100111010101000010100011110010100\n",
            "3760\n",
            "[0, 16, 24, 40, 56, 72, 80, 96, 112, 128, 136, 152, 168, 184, 192, 208, 224, 240, 248, 264, 280, 296, 304, 320, 336, 352, 360, 376, 392, 408, 416, 432, 448, 464, 472, 488, 504, 520, 528, 544, 560, 576, 584, 600, 616, 632, 640, 656, 672, 688, 696, 712, 728, 744, 752, 768, 784, 800, 808, 824, 840, 856, 864, 880, 896, 912, 920, 936, 952, 968, 976, 992, 1008, 1024, 1032, 1048, 1064, 1080, 1088, 1104, 1120, 1136, 1144, 1160, 1176, 1192, 1200, 1216, 1232, 1248, 1256, 1272, 1288, 1304, 1312, 1328, 1344, 1360, 1368, 1384, 1400, 1416, 1424, 1440, 1456, 1472, 1480, 1496, 1512, 1528, 1536, 1552, 1568, 1584, 1592, 1608, 1624, 1640, 1648, 1664, 1680, 1696, 1704, 1720, 1736, 1752, 1760, 1776, 1792, 1808, 1816, 1832, 1848, 1864, 1872, 1888, 1904, 1920, 1928, 1944, 1960, 1976, 1984, 2000, 2016, 2032, 2040, 2056, 2072, 2088, 2096, 2112, 2128, 2144, 2152, 2168, 2184, 2200, 2208, 2224, 2240, 2256, 2264, 2280, 2296, 2312, 2320, 2336, 2352, 2368, 2376, 2392, 2408, 2424, 2432, 2448, 2464, 2480, 2488, 2504, 2520, 2536, 2544, 2560, 2576, 2592, 2600, 2616, 2632, 2648, 2656, 2672, 2688, 2704, 2712, 2728, 2744, 2760, 2768, 2784, 2800, 2816, 2824, 2840, 2856, 2872, 2880, 2896, 2912, 2928, 2936, 2952, 2968, 2984, 2992, 3008, 3024, 3040, 3048, 3064, 3080, 3096, 3104, 3120, 3136, 3152, 3160, 3176, 3192, 3208, 3216, 3232, 3248, 3264, 3272, 3288, 3304, 3320, 3328, 3344, 3360, 3376, 3384, 3400, 3416, 3432, 3440, 3456, 3472, 3488, 3496, 3512, 3528, 3544, 3552, 3568, 3584, 3600, 3608, 3624, 3640, 3656, 3664, 3680, 3696, 3712, 3720, 3736, 3752]\n"
          ]
        }
      ]
    },
    {
      "cell_type": "code",
      "source": [
        "import difflib\n",
        "import collections\n",
        "import statistics\n",
        "def distance(s1, s2):\n",
        "    s2 = s2[:len(s1)]\n",
        "    return sum(abs(ord(x) - ord(y)) for x,y in zip(s1, s2))\n",
        "\n",
        "def isvalid(c):\n",
        "    return (c >= 32 and c <= 47) or (c >= 57 and c < 127)\n"
      ],
      "metadata": {
        "id": "krviah3IIalv"
      },
      "execution_count": null,
      "outputs": []
    },
    {
      "cell_type": "code",
      "source": [],
      "metadata": {
        "colab": {
          "base_uri": "https://localhost:8080/",
          "height": 297
        },
        "id": "7FMpR_L3I_XA",
        "outputId": "932f4dc6-32a7-455e-a7c7-ec925ef1e32b"
      },
      "execution_count": null,
      "outputs": [
        {
          "output_type": "error",
          "ename": "ValueError",
          "evalue": "Unknown format code 'X' for object of type 'str'",
          "traceback": [
            "\u001b[0;31m---------------------------------------------------------------------------\u001b[0m",
            "\u001b[0;31mValueError\u001b[0m                                Traceback (most recent call last)",
            "\u001b[0;32m<ipython-input-11-10dbdec2c1f6>\u001b[0m in \u001b[0;36m<cell line: 6>\u001b[0;34m()\u001b[0m\n\u001b[1;32m      4\u001b[0m     \u001b[0mprint\u001b[0m\u001b[0;34m(\u001b[0m\u001b[0;34m)\u001b[0m\u001b[0;34m\u001b[0m\u001b[0;34m\u001b[0m\u001b[0m\n\u001b[1;32m      5\u001b[0m \u001b[0;34m\u001b[0m\u001b[0m\n\u001b[0;32m----> 6\u001b[0;31m \u001b[0mhex_print\u001b[0m\u001b[0;34m(\u001b[0m\u001b[0;34m\"A3\"\u001b[0m\u001b[0;34m)\u001b[0m\u001b[0;34m\u001b[0m\u001b[0;34m\u001b[0m\u001b[0m\n\u001b[0m",
            "\u001b[0;32m<ipython-input-11-10dbdec2c1f6>\u001b[0m in \u001b[0;36mhex_print\u001b[0;34m(c)\u001b[0m\n\u001b[1;32m      1\u001b[0m \u001b[0;32mdef\u001b[0m \u001b[0mhex_print\u001b[0m\u001b[0;34m(\u001b[0m\u001b[0mc\u001b[0m\u001b[0;34m)\u001b[0m\u001b[0;34m:\u001b[0m\u001b[0;34m\u001b[0m\u001b[0;34m\u001b[0m\u001b[0m\n\u001b[1;32m      2\u001b[0m     \u001b[0;32mfor\u001b[0m \u001b[0mi\u001b[0m \u001b[0;32min\u001b[0m \u001b[0mc\u001b[0m\u001b[0;34m:\u001b[0m\u001b[0;34m\u001b[0m\u001b[0;34m\u001b[0m\u001b[0m\n\u001b[0;32m----> 3\u001b[0;31m         \u001b[0mprint\u001b[0m\u001b[0;34m(\u001b[0m\u001b[0;34m\"{:02X} \"\u001b[0m\u001b[0;34m.\u001b[0m\u001b[0mformat\u001b[0m\u001b[0;34m(\u001b[0m\u001b[0mi\u001b[0m\u001b[0;34m)\u001b[0m\u001b[0;34m,\u001b[0m \u001b[0mend\u001b[0m\u001b[0;34m=\u001b[0m\u001b[0;34m\"\"\u001b[0m\u001b[0;34m)\u001b[0m\u001b[0;34m\u001b[0m\u001b[0;34m\u001b[0m\u001b[0m\n\u001b[0m\u001b[1;32m      4\u001b[0m     \u001b[0mprint\u001b[0m\u001b[0;34m(\u001b[0m\u001b[0;34m)\u001b[0m\u001b[0;34m\u001b[0m\u001b[0;34m\u001b[0m\u001b[0m\n\u001b[1;32m      5\u001b[0m \u001b[0;34m\u001b[0m\u001b[0m\n",
            "\u001b[0;31mValueError\u001b[0m: Unknown format code 'X' for object of type 'str'"
          ]
        }
      ]
    },
    {
      "cell_type": "code",
      "source": [
        "stream = []\n",
        "def getKey(CipherText,N):\n",
        "  ciphertext = []\n",
        "  Key=[]\n",
        "  for i in range(0, len(CipherText)-2, 2):\n",
        "    b = CipherText[i] + CipherText[i+1]\n",
        "    ciphertext.append(int(b, 16))\n",
        "  print(ciphertext)\n",
        "  priority = 'etainshrdlcumwfgypbovkjxqz'\n",
        "  for i in range(N):\n",
        "    stream = ciphertext[i::N]\n",
        "    print('stream=', end='')\n",
        "    print(stream)\n",
        "    candidates = {}\n",
        "    for k in range(256):\n",
        "        fail = False\n",
        "        problist = []\n",
        "        for c in stream:\n",
        "            p = c ^ k\n",
        "\n",
        "            # even one non-alpha char means this key byte is wrong\n",
        "            if not isvalid(p):\n",
        "                fail = True\n",
        "                #print('x')\n",
        "                break\n",
        "\n",
        "            # append decrypted char to stream plaintext\n",
        "            p = chr(p).lower()\n",
        "\n",
        "            problist.append(p)\n",
        "\n",
        "        if not fail:\n",
        "            print('Probability list=', ''.join(problist))\n",
        "\n",
        "        if not fail:\n",
        "            # letter frequency matches priority order\n",
        "            print('*** For i={} with  k={:02x}'.format(i, k))\n",
        "            c = collections.Counter(problist)\n",
        "\n",
        "            freq = ''.join(x[0] for x in c.most_common())\n",
        "            ratio = difflib.SequenceMatcher(a=freq, b=priority).ratio()\n",
        "            print('freq=', freq, 'ratio=', ratio)\n",
        "            candidates[k] = ratio\n",
        "\n",
        "    Key.append(max(candidates, key=candidates.get))\n",
        "  return (Key)\n",
        "\n",
        "stream= getKey(ciphertext,7)\n",
        "print(stream)"
      ],
      "metadata": {
        "colab": {
          "base_uri": "https://localhost:8080/"
        },
        "id": "LV119xXFHtrh",
        "outputId": "21a4bd43-f609-49f1-f29b-8351ad664570"
      },
      "execution_count": 70,
      "outputs": [
        {
          "output_type": "stream",
          "name": "stdout",
          "text": [
            "[249, 109, 232, 194, 39, 162, 89, 200, 126, 225, 218, 42, 237, 87, 201, 63, 229, 218, 54, 237, 78, 200, 126, 242, 198, 58, 174, 91, 154, 126, 255, 214, 115, 190, 74, 207, 123, 232, 146, 60, 171, 30, 206, 122, 242, 218, 61, 164, 79, 207, 122, 226, 146, 53, 162, 76, 150, 63, 240, 223, 60, 163, 89, 154, 112, 229, 218, 54, 191, 30, 206, 119, 248, 220, 52, 190, 18, 154, 108, 244, 209, 38, 191, 91, 154, 124, 254, 223, 62, 184, 80, 211, 124, 240, 198, 58, 162, 80, 154, 118, 255, 146, 39, 165, 91, 154, 111, 227, 215, 32, 168, 80, 217, 122, 177, 221, 53, 237, 95, 206, 107, 240, 209, 56, 168, 76, 201, 49, 177, 241, 33, 180, 78, 206, 112, 246, 192, 50, 189, 86, 195, 63, 249, 211, 32, 237, 92, 223, 122, 255, 146, 38, 190, 91, 222, 63, 247, 221, 33, 237, 86, 207, 113, 245, 192, 54, 169, 77, 150, 63, 248, 212, 115, 163, 81, 206, 63, 229, 218, 60, 184, 77, 219, 113, 245, 193, 127, 237, 81, 220, 63, 232, 215, 50, 191, 77, 150, 63, 243, 199, 39, 237, 74, 200, 126, 245, 219, 39, 164, 81, 212, 126, 253, 146, 48, 191, 71, 202, 107, 254, 193, 42, 190, 74, 223, 114, 226, 146, 36, 168, 76, 223, 63, 245, 215, 32, 164, 89, 212, 122, 245, 146, 50, 163, 90, 154, 122, 231, 211, 63, 184, 95, 206, 122, 245, 146, 58, 163, 30, 219, 63, 247, 211, 58, 191, 82, 195, 63, 240, 214, 115, 165, 81, 217, 63, 252, 211, 61, 163, 91, 200, 49, 177, 244, 60, 191, 30, 223, 103, 240, 223, 35, 161, 91, 150, 63, 229, 218, 54, 237, 104, 211, 120, 244, 220, 54, 191, 91, 154, 122, 255, 209, 33, 180, 78, 206, 118, 254, 220, 115, 190, 93, 210, 122, 252, 215, 115, 186, 95, 201, 63, 229, 218, 60, 184, 89, 210, 107, 177, 198, 60, 237, 92, 223, 63, 226, 215, 48, 184, 76, 223, 63, 247, 221, 33, 237, 90, 223, 124, 240, 214, 54, 190, 30, 219, 121, 229, 215, 33, 237, 87, 206, 63, 230, 211, 32, 237, 87, 212, 105, 244, 220, 39, 168, 90, 150, 63, 243, 199, 39, 237, 73, 223, 63, 255, 221, 36, 237, 85, 212, 112, 230, 158, 115, 172, 80, 222, 63, 229, 218, 58, 190, 30, 223, 103, 244, 192, 48, 164, 77, 223, 63, 245, 215, 62, 162, 80, 201, 107, 227, 211, 39, 168, 77, 150, 63, 229, 218, 50, 185, 30, 211, 107, 177, 209, 50, 163, 30, 216, 122, 177, 208, 33, 162, 85, 223, 113, 177, 196, 54, 191, 71, 154, 122, 240, 193, 58, 161, 71]\n",
            "stream=[249, 200, 201, 200, 154, 207, 206, 207, 150, 154, 206, 154, 154, 211, 154, 154, 217, 206, 201, 206, 195, 223, 222, 207, 150, 206, 219, 220, 150, 200, 212, 202, 223, 223, 212, 154, 206, 219, 195, 217, 200, 223, 150, 211, 154, 206, 210, 201, 210, 223, 223, 223, 219, 206, 212, 150, 223, 212, 222, 223, 223, 201, 150, 211, 216, 223, 154]\n",
            "Probability list= kz{z(}|}$(|((a((k|{|qml}$|in$zfxmmf(|iqkzm$a(|`{`mmmi|f$mflmm{$ajm(\n",
            "*** For i=0 with  k=b2\n",
            "freq= m(|$z{fk}aiql`nxj ratio= 0.13953488372093023\n",
            "Probability list= j{z{)|}|%)}))`))j}z}plm|%}ho%{gyllg)}hpj{l%`)}azalllh}g%lgmllz%`kl)\n",
            "*** For i=0 with  k=b3\n",
            "freq= l)}%{zgj|`hpmaoyk ratio= 0.09302325581395349\n",
            "Probability list= m|}|.{z{\".z..g..mz}zwkj{\"zoh\"|`~kk`.zowm|k\"g.zf}fkkkoz`\"k`jkk}\"glk.\n",
            "*** For i=0 with  k=b4\n",
            "freq= k.z\"|}`m{gowjfh~l ratio= 0.09302325581395349\n",
            "Probability list= apqp\"wvw.\"v\"\"k\"\"avqv{gfw.vcd.plrggl\"vc{apg.k\"vjqjgggcvl.glfggq.k`g\"\n",
            "*** For i=0 with  k=b8\n",
            "freq= g\"v.pqlawkc{fjdr` ratio= 0.13953488372093023\n",
            "Probability list= @qpq#vwv/#w##j##`wpwzfgv/wbe/qmsffm#wbz`qf/j#wkpkfffbwm/fmgffp/jaf#\n",
            "*** For i=0 with  k=b9\n",
            "freq= f#w/qpmvjb`zgk@esa ratio= 0.13636363636363635\n",
            "Probability list= crsr utu, t  i  ctstyedu,taf,rnpeen taycre,i thsheeeatn,endees,ibe \n",
            "*** For i=0 with  k=ba\n",
            "freq= e t,rsncuiaydhfpb ratio= 0.37209302325581395\n",
            "Probability list= bsrs!tut-!u!!h!!buruxdet-u`g-soqddo!u`xbsd-h!uiriddd`uo-doeddr-hcd!\n",
            "*** For i=0 with  k=bb\n",
            "freq= d!u-srobth`xeigqc ratio= 0.23255813953488372\n",
            "Probability list= dutu'rsr+'s''n''dsts~bcr+sfa+uiwbbi'sf~dub+n'sotobbbfsi+bicbbt+neb'\n",
            "*** For i=0 with  k=bd\n",
            "freq= b's+utidrnf~coawe ratio= 0.09302325581395349\n",
            "Probability list= gvwv$qpq($p$$m$$gpwp}a`q(peb(vjtaaj$pe}gva(m$plwlaaaepj(aj`aaw(mfa$\n",
            "*** For i=0 with  k=be\n",
            "freq= a$p(vwjgqme}`lbtf ratio= 0.23255813953488372\n",
            "Probability list= fwvw%pqp)%q%%l%%fqvq|`ap)qdc)wku``k%qd|fw`)l%qmvm```dqk)`ka``v)lg`%\n",
            "*** For i=0 with  k=bf\n",
            "freq= `%q)wvkfpld|amcug ratio= 0.13953488372093023\n",
            "stream=[109, 126, 63, 126, 126, 123, 122, 122, 63, 112, 119, 108, 124, 124, 118, 111, 122, 107, 49, 112, 63, 122, 63, 113, 63, 63, 113, 63, 63, 126, 126, 107, 114, 63, 122, 122, 122, 63, 63, 63, 49, 103, 63, 120, 122, 118, 122, 63, 107, 63, 63, 124, 121, 63, 105, 63, 63, 112, 63, 103, 63, 107, 63, 107, 122, 113, 122]\n",
            "Probability list= |o.oojkk.af}mmg~kz a.k.`..`..oozc.kkk... v.ikgk.z..mh.x..a.v.z.zk`k\n",
            "*** For i=1 with  k=11\n",
            "freq= .kozam`g v|jf}~cihx ratio= 0.08888888888888889\n",
            "Probability list= xk*kknoo*ebyiiczo~$e*o*d**d**kk~g*ooo***$r*moco*~**il*|**e*r*~*~odo\n",
            "*** For i=1 with  k=15\n",
            "freq= *ok~eidc$rxnbyzgml| ratio= 0.17777777777777778\n",
            "Probability list= zi(iilmm(g`{kkaxm|&g(m(f((f((ii|e(mmm(((&p(omam(|((kn(~((g(p(|(|mfm\n",
            "*** For i=1 with  k=17\n",
            "freq= (mi|gkfa&pzl`{xeon~ ratio= 0.17777777777777778\n",
            "Probability list= tg&ggbcc&inueeovcr(i&c&h&&h&&ggrk&ccc&&&(~&acoc&r&&e`&p&&i&~&r&rchc\n",
            "*** For i=1 with  k=19\n",
            "freq= &cgrieho(~tbnuvka`p ratio= 0.2222222222222222\n",
            "Probability list= wd%dda``%jmvfflu`q+j%`%k%%k%%ddqh%```%%%+}%b`l`%q%%fc%s%%j%}%q%q`k`\n",
            "*** For i=1 with  k=1a\n",
            "freq= %`dqjfkl+}wamvuhbcs ratio= 0.08888888888888889\n",
            "Probability list= ve$ee`aa$klwggmtap*k$a$j$$j$$eepi$aaa$$$*|$cama$p$$gb$r$$k$|$p$paja\n",
            "*** For i=1 with  k=1b\n",
            "freq= $aepkgjm*|v`lwticbr ratio= 0.17777777777777778\n",
            "Probability list= qb#bbgff#lkp``jsfw-l#f#m##m##bbwn#fff###-{#dfjf#w##`e#u##l#{#w#wfmf\n",
            "*** For i=1 with  k=1c\n",
            "freq= #fbwl`mj-{qgkpsndeu ratio= 0.17777777777777778\n",
            "Probability list= pc\"ccfgg\"mjqaakrgv,m\"g\"l\"\"l\"\"ccvo\"ggg\"\"\",z\"egkg\"v\"\"ad\"t\"\"m\"z\"v\"vglg\n",
            "*** For i=1 with  k=1d\n",
            "freq= \"gcvmalk,zpfjqroedt ratio= 0.17777777777777778\n",
            "Probability list= s`!``edd!nirbbhqdu/n!d!o!!o!!``ul!ddd!!!/y!fdhd!u!!bg!w!!n!y!u!udod\n",
            "*** For i=1 with  k=1e\n",
            "freq= !d`unboh/yseirqlfgw ratio= 0.2222222222222222\n",
            "Probability list= ra aadee ohsccipet.o e n  n  aatm eee   .x geie t  cf v  o x t tene\n",
            "*** For i=1 with  k=1f\n",
            "freq=  eatocni.xrdhspmgfv ratio= 0.3111111111111111\n",
            "stream=[232, 225, 229, 242, 255, 232, 242, 226, 240, 229, 248, 244, 254, 240, 255, 227, 177, 240, 177, 246, 249, 255, 247, 245, 248, 229, 245, 232, 243, 245, 253, 254, 226, 245, 245, 231, 245, 247, 240, 252, 177, 240, 229, 244, 255, 254, 252, 229, 177, 226, 247, 240, 229, 230, 244, 243, 255, 230, 229, 244, 245, 227, 229, 177, 177, 177, 240]\n",
            "Probability list= fok|qf|l~kvzp~qm?~?xwqy{vk{f}{spl{{i{y~r?~kzqprk?ly~khz}qhkz{mk???~\n",
            "*** For i=2 with  k=8e\n",
            "freq= k~?{qzflpy|vm}rhoxwsi ratio= 0.1276595744680851\n",
            "Probability list= xquboxbr`uhdn`os!`!fiogehuexcemnreeweg`l!`udonlu!rg`uvdcovudesu!!!`\n",
            "*** For i=2 with  k=90\n",
            "freq= u`!eodxrngbhsclvqfimw ratio= 0.1276595744680851\n",
            "Probability list= yptcnycsatieoanr a ghnfditdybdlosddvdfam atenomt sfatwebnwtedrt   a\n",
            "*** For i=2 with  k=91\n",
            "freq= ta dneysofcirbmwpghlv ratio= 0.3404255319148936\n",
            "Probability list= zsw`mz`pbwjflbmq#b#dkmegjwgzagolpggugebn#bwfmlnw#pebwtfamtwfgqw###b\n",
            "*** For i=2 with  k=92\n",
            "freq= wb#gmfzple`jqantsdkou ratio= 0.1276595744680851\n",
            "Probability list= {rval{aqcvkgmclp\"c\"ejldfkvf{`fnmqfftfdco\"cvglmov\"qdcvug`luvgfpv\"\"\"c\n",
            "*** For i=2 with  k=93\n",
            "freq= vc\"flg{qmdakp`ourejnt ratio= 0.0851063829787234\n",
            "Probability list= |uqfk|fvdql`jdkw%d%bmkcalqa|gaijvaasacdh%dq`kjhq%vcdqr`gkrq`awq%%%d\n",
            "*** For i=2 with  k=94\n",
            "freq= qd%ak`|vjcflwghrubmis ratio= 0.2127659574468085\n",
            "Probability list= }tpgj}gwepmakejv$e$cljb`mp`}f`hkw``r`bei$epajkip$wbepsafjspa`vp$$$e\n",
            "*** For i=2 with  k=95\n",
            "freq= pe$`ja}wkbgmvfistclhr ratio= 0.2553191489361702\n",
            "Probability list= ~wsdi~dtfsnbhfiu'f'`oiacnsc~eckhtccqcafj'fsbihjs'tafspbeipsbcus'''f\n",
            "*** For i=2 with  k=96\n",
            "freq= sf'cib~thadnuejpw`okq ratio= 0.2127659574468085\n",
            "Probability list= sz~idsiyk~coekdx*k*mbdlnc~nshnfeynn|nlkg*k~odeg~*ylk~}ohd}~onx~***k\n",
            "*** For i=2 with  k=9b\n",
            "freq= ~k*ndosyelicxhg}zmbf| ratio= 0.1276595744680851\n",
            "Probability list= w~zm`wm}ozgkao`|.o.if`hjgzjwljba}jjxjhoc.ozk`acz.}hozykl`yzkj|z...o\n",
            "*** For i=2 with  k=9f\n",
            "freq= zo.j`kw}ahmg|lcy~ifbx ratio= 0.2978723404255319\n",
            "stream=[194, 218, 218, 198, 214, 146, 218, 146, 223, 218, 220, 209, 223, 198, 146, 215, 221, 209, 241, 192, 211, 146, 221, 192, 212, 218, 193, 215, 199, 219, 146, 193, 146, 215, 146, 211, 146, 211, 214, 211, 244, 223, 218, 220, 209, 220, 215, 218, 198, 215, 221, 214, 215, 211, 220, 199, 221, 158, 218, 192, 215, 211, 218, 209, 208, 196, 193]\n",
            "Probability list= rjjvf\"j\"ojlaov\"gmaapc\"mpdjqgwk\"q\"g\"c\"cfcdojlalgjvgmfgclwm.jpgcja`tq\n",
            "*** For i=3 with  k=b0\n",
            "freq= j\"gcalmvfopqdwrk.`t ratio= 0.08888888888888889\n",
            "Probability list= skkwg#k#nkm`nw#fl`@qb#lqekpfvj#p#f#b#bgbenkm`mfkwflgfbmvl/kqfbk`aup\n",
            "*** For i=3 with  k=b1\n",
            "freq= k#fbm`lwgnqpevs@j/au ratio= 0.08695652173913043\n",
            "Probability list= phhtd h mhncmt eoccra orfhseui s e a adafmhncnehteodeanuo,hreahcbvs\n",
            "*** For i=3 with  k=b2\n",
            "freq= h eacnotdmrsfupi,bv ratio= 0.17777777777777778\n",
            "Probability list= qiiue!i!lioblu!dnbbs`!nsgirdth!r!d!`!`e`gliobodiudned`otn-isd`ibcwr\n",
            "*** For i=3 with  k=b3\n",
            "freq= i!d`bonuelsrgtqh-cw ratio= 0.2222222222222222\n",
            "Probability list= vnnrb&n&knhekr&cieetg&it`nucso&u&c&g&gbg@knhehcnrcibcghsi*ntcgnedpu\n",
            "*** For i=3 with  k=b4\n",
            "freq= n&cgehirbktusv`o@*dp ratio= 0.21739130434782608\n",
            "Probability list= woosc'o'joidjs'bhdduf'huaotbrn't'b'f'fcfajoidibosbhcbfirh+oubfodeqt\n",
            "*** For i=3 with  k=b5\n",
            "freq= o'bfdihscjutarwn+eq ratio= 0.2222222222222222\n",
            "Probability list= tllp`$l$iljgip$akggve$kvblwaqm$w$a$e$e`ebiljgjalpak`aejqk(lvaelgfrw\n",
            "*** For i=3 with  k=b6\n",
            "freq= l$aegjkp`ivwbqtm(fr ratio= 0.17777777777777778\n",
            "Probability list= ummqa%m%hmkfhq%`jffwd%jwcmv`pl%v%`%d%dadchmkfk`mq`ja`dkpj)mw`dmfgsv\n",
            "*** For i=3 with  k=b7\n",
            "freq= m%`dfkjqahwvcpul)gs ratio= 0.2222222222222222\n",
            "Probability list= x``|l(`(e`fke|(mgkkzi(gzn`{m}a({(m(i(iline`fkfm`|mglmif}g$`zmi`kj~{\n",
            "*** For i=3 with  k=ba\n",
            "freq= `(mikfg|lez{n}xa$j~ ratio= 0.17777777777777778\n",
            "Probability list= ~ffzj.f.cf`mcz.kamm|o.a|hf}k{g.}.k.o.ojohcf`m`kfzkajko`{a\"f|kofmlx}\n",
            "*** For i=3 with  k=bc\n",
            "freq= f.kom`azjc|}h{~g\"lx ratio= 0.13333333333333333\n",
            "stream=[39, 42, 54, 58, 115, 60, 61, 53, 60, 54, 52, 38, 62, 58, 39, 32, 53, 56, 33, 50, 32, 38, 33, 54, 115, 60, 127, 50, 39, 39, 48, 42, 36, 32, 50, 63, 58, 58, 115, 61, 60, 35, 54, 54, 33, 115, 115, 60, 60, 48, 33, 54, 33, 32, 39, 39, 36, 115, 58, 48, 62, 39, 50, 50, 33, 54, 58]\n",
            "Probability list= wzfj#lmelfdvnjwpehqbpvqf#l/bww`ztpbojj#mlsffq##ll`qfqpwwt#j`nwbbqfj\n",
            "*** For i=4 with  k=50\n",
            "freq= wfj#lqbp`zmevntdh/os ratio= 0.21739130434782608\n",
            "Probability list= v{gk\"mldmgewokvqdipcqwpg\"m.cvva{uqcnkk\"lmrggp\"\"mmapgpqvvu\"kaovccpgk\n",
            "*** For i=4 with  k=51\n",
            "freq= vgk\"mpcqa{ldwouei.nr ratio= 0.13043478260869565\n",
            "Probability list= uxdh!nogndftlhurgjs`rtsd!n-`uubxvr`mhh!onqdds!!nnbsdsruuv!hblu``sdh\n",
            "*** For i=4 with  k=52\n",
            "freq= udh!ns`rbxogtlvfj-mq ratio= 0.2608695652173913\n",
            "Probability list= tyei onfoegumitsfkrasure o,attcywsalii nopeer  oocrersttw icmtaarei\n",
            "*** For i=4 with  k=53\n",
            "freq= tei orascynfumwgk,lp ratio= 0.391304347826087\n",
            "Probability list= s~bn'hiahb`rjnstaluftrub'h+fssd~ptfknn'ihwbbu''hhdubutssp'ndjsffubn\n",
            "*** For i=4 with  k=54\n",
            "freq= sbn'huftd~iarjp`l+kw ratio= 0.13043478260869565\n",
            "Probability list= q|`l%jkcj`bphlqvcnwdvpw`%j)dqqf|rvdill%kju``w%%jjfw`wvqqr%lfhqddw`l\n",
            "*** For i=4 with  k=56\n",
            "freq= q`l%jwdvf|kcphrbn)iu ratio= 0.13043478260869565\n",
            "Probability list= p}am$kjbkacqimpwbovewqva$k(eppg}swehmm$jktaav$$kkgvavwpps$mgipeevam\n",
            "*** For i=4 with  k=57\n",
            "freq= pam$kvewg}jbqisco(ht ratio= 0.17391304347826086\n",
            "Probability list= }pl`)fgofln|d`}zob{hz|{l)f%h}}jp~zhe``)gfyll{))ffj{l{z}}~)`jd}hh{l`\n",
            "*** For i=4 with  k=5a\n",
            "freq= }l`)f{hzjpgo|d~nb%ey ratio= 0.13043478260869565\n",
            "Probability list= zwkg.a`haki{cgz}he|o}{|k.a\"ozzmwy}obgg.`a~kk|..aam|k|}zzy.gmczoo|kg\n",
            "*** For i=4 with  k=5d\n",
            "freq= zkg.a|o}mw`h{cyie\"b~ ratio= 0.21739130434782608\n",
            "stream=[162, 237, 237, 174, 190, 171, 164, 162, 163, 191, 190, 191, 184, 162, 165, 168, 237, 168, 180, 189, 237, 190, 237, 169, 163, 184, 237, 191, 237, 164, 191, 190, 168, 164, 163, 184, 163, 191, 165, 163, 191, 161, 237, 191, 180, 190, 186, 184, 237, 184, 237, 190, 237, 237, 168, 237, 237, 172, 190, 164, 162, 168, 185, 163, 162, 191, 161]\n",
            "Probability list= a..m}hga`|}|{afk.kw~.}.j`{.|.g|}kg`{`|f`|b.|w}y{.{.}..k..o}gakz`a|b\n",
            "*** For i=5 with  k=c3\n",
            "freq= .|}`a{kgfwbmh~jyoz ratio= 0.18181818181818182\n",
            "Probability list= f))jzo`fg{z{|fal)lpy)z)mg|){)`{zl`g|g{ag{e){pz~|)|)z))l))hz`fl}gf{e\n",
            "*** For i=5 with  k=c4\n",
            "freq= ){zgf|l`apejoym~h} ratio= 0.045454545454545456\n",
            "Probability list= j%%fvcljkwvwpjm`%`|u%v%akp%w%lwv`lkpkwmkwi%w|vrp%p%v%%`%%dvlj`qkjwi\n",
            "*** For i=5 with  k=c8\n",
            "freq= %wvkjp`lm|ifcuardq ratio= 0.22727272727272727\n",
            "Probability list= k$$gwbmkjvwvqkla$a}t$w$`jq$v$mvwamjqjvljvh$v}wsq$q$w$$a$$ewmkapjkvh\n",
            "*** For i=5 with  k=c9\n",
            "freq= $vwjkqaml}hgbt`sep ratio= 0.13636363636363635\n",
            "Probability list= h''dtanhiuturhob'b~w't'cir'u'nutbniriuoiuk'u~tpr'r't''b''ftnhbsihuk\n",
            "*** For i=5 with  k=ca\n",
            "freq= 'utihrbno~kdawcpfs ratio= 0.3181818181818182\n",
            "Probability list= n!!brghnosrstnid!dxq!r!eot!s!hsrdhotosiosm!sxrvt!t!r!!d!!`rhnduonsm\n",
            "*** For i=5 with  k=cc\n",
            "freq= !srontdhixmbgqev`u ratio= 0.22727272727272727\n",
            "Probability list= o  csfionrsruohe eyp s dnu r irseinunrhnrl ryswu u s  e  asioetnorl\n",
            "*** For i=5 with  k=cd\n",
            "freq=  rsnoueihylcfpdwat ratio= 0.22727272727272727\n",
            "Probability list= l##`pejlmqpqvlkf#fzs#p#gmv#q#jqpfjmvmqkmqo#qzptv#v#p##f##bpjlfwmlqo\n",
            "*** For i=5 with  k=ce\n",
            "freq= #qpmlvfjkzo`esgtbw ratio= 0.09090909090909091\n",
            "Probability list= m\"\"aqdkmlpqpwmjg\"g{r\"q\"flw\"p\"kpqgklwlpjlpn\"p{quw\"w\"q\"\"g\"\"cqkmgvlmpn\n",
            "*** For i=5 with  k=cf\n",
            "freq= \"pqlmwgkj{nadrfucv ratio= 0.2727272727272727\n",
            "Probability list= r==~n{trsonohrux=xdm=n=ysh=o=tonxtshsousoq=odnjh=h=n==x==|ntrxisroq\n",
            "*** For i=5 with  k=d0\n",
            "freq= =onsrhxtudq~{myj|i ratio= 0.22727272727272727\n",
            "Probability list= p??|lyvpqmlmjpwz?zfo?l?{qj?m?vmlzvqjqmwqms?mflhj?j?l??z??~lvpzkqpms\n",
            "*** For i=5 with  k=d2\n",
            "freq= ?mlqpjzvwfs|yo{h~k ratio= 0.2727272727272727\n",
            "stream=[89, 87, 78, 91, 74, 30, 79, 76, 89, 30, 18, 91, 80, 80, 91, 80, 95, 76, 78, 86, 92, 91, 86, 77, 81, 77, 81, 77, 74, 81, 71, 74, 76, 89, 90, 95, 30, 82, 81, 91, 30, 91, 104, 91, 78, 93, 95, 89, 92, 76, 90, 30, 87, 87, 90, 73, 85, 80, 30, 77, 80, 77, 30, 30, 85, 71, 71]\n",
            "Probability list= mczo~*{xm*&oddodkxzbhobyeyey~es~xmnk*feo*o\\ozikmhxn*ccn}ad*ydy**ass\n",
            "*** For i=6 with  k=34\n",
            "freq= *odymxecz~ksnbha{&f\\i} ratio= 0.125\n",
            "Probability list= n`yl})x{n)%lgglgh{yaklazfzfz}fp}{nmh)efl)l_lyjhnk{m)``m~bg)zgz))bpp\n",
            "*** For i=6 with  k=37\n",
            "freq= )lgzn{f`y}hpmakbx%e_j~ ratio= 0.125\n",
            "Probability list= `nwbs'vu`'+biibifuwoeboththtsh~su`cf'khb'bqbwdf`euc'nncpli'tit''l~~\n",
            "*** For i=6 with  k=39\n",
            "freq= 'bit`uhnwsf~coelv+kqdp ratio= 0.20833333333333334\n",
            "Probability list= cmtap$uvc$(ajjajevtlfalwkwkwpk}pvc`e$hka$aratgecfv`$mm`soj$wjw$$o}}\n",
            "*** For i=6 with  k=3a\n",
            "freq= $ajwcvkmtpe}`lfou(hrgs ratio= 0.16666666666666666\n",
            "Probability list= blu`q%twb%)`kk`kdwumg`mvjvjvqj|qwbad%ij`%`s`ufdbgwa%llarnk%vkv%%n||\n",
            "*** For i=6 with  k=3b\n",
            "freq= %`kvbwjluqd|amgnt)isfr ratio= 0.125\n",
            "Probability list= ekrgv\"spe\".gllglcprj`gjqmqmqvm{vpefc\"nmg\"gtgrace`pf\"kkfuil\"qlq\"\"i{{\n",
            "*** For i=6 with  k=3c\n",
            "freq= \"glqepmkrvc{fj`is.ntau ratio= 0.16666666666666666\n",
            "Probability list= djsfw#rqd#/fmmfmbqskafkplplpwlzwqdgb#olf#fufs`bdaqg#jjgthm#pmp##hzz\n",
            "*** For i=6 with  k=3d\n",
            "freq= #fmpdqljswbzgkahr/ou`t ratio= 0.16666666666666666\n",
            "Probability list= gipet qrg ,ennenarphbehsosostoytrgda loe evepcagbrd iidwkn sns  kyy\n",
            "*** For i=6 with  k=3e\n",
            "freq=  ensgroiptaydhbkq,lvcw ratio= 0.2916666666666667\n",
            "Probability list= fhqdu!psf!-doodo`sqicdirnrnrunxusfe`!mnd!dwdqb`fcse!hhevjo!ror!!jxx\n",
            "*** For i=6 with  k=3f\n",
            "freq= !dorfsnhqu`xeicjp-mwbv ratio= 0.25\n",
            "[186, 31, 145, 179, 83, 202, 62]\n"
          ]
        }
      ]
    },
    {
      "cell_type": "code",
      "source": [
        "def converttoHexa(A):\n",
        "  Key=''\n",
        "  for i in (A):\n",
        "    Key+=hex(i)[2:]\n",
        "  Key=Key.upper()\n",
        "  return Key\n",
        "HEXKEY=converttoHexa(stream)"
      ],
      "metadata": {
        "id": "fWSudDy9jDKV"
      },
      "execution_count": 71,
      "outputs": []
    },
    {
      "cell_type": "code",
      "source": [
        "!pip install bitarray\n",
        "from bitarray import bitarray\n"
      ],
      "metadata": {
        "colab": {
          "base_uri": "https://localhost:8080/"
        },
        "id": "Rf9GLpbZhPss",
        "outputId": "3e60a462-5b96-470e-aa6b-11e33fc6e48e"
      },
      "execution_count": 65,
      "outputs": [
        {
          "output_type": "stream",
          "name": "stdout",
          "text": [
            "Requirement already satisfied: bitarray in /usr/local/lib/python3.10/dist-packages (2.9.2)\n"
          ]
        }
      ]
    },
    {
      "cell_type": "code",
      "source": [
        "\n",
        "bins = '0100000101110011011010110101000001111001011101000110100001101111011011100010000000110100'\n",
        "bts = bitarray(bins)\n",
        "ascs = bts.tobytes().decode('ascii')\n",
        "print(\"The normal string is: \", ascs)"
      ],
      "metadata": {
        "colab": {
          "base_uri": "https://localhost:8080/"
        },
        "id": "euihfMWliB1F",
        "outputId": "158dc9bd-f144-49d6-f846-a197d8e4633c"
      },
      "execution_count": 72,
      "outputs": [
        {
          "output_type": "stream",
          "name": "stdout",
          "text": [
            "The normal string is:  AskPython 4\n"
          ]
        }
      ]
    },
    {
      "cell_type": "code",
      "source": [
        "def DECODE(Ciphertext,StrKey,HexKey):\n",
        "  Binary_String=HexadecimalToBinary(Ciphertext)\n",
        "  if(StrKey!=None):\n",
        "    Key=StrKey.encode()\n",
        "    Binary_key=HexadecimalToBinary(hexlify(Key).decode())\n",
        "  if(HexKey!=None):\n",
        "    Binary_key=np.base_repr(int(HexKey, 16), base=2)\n",
        "  WrapKey=''\n",
        "  K=(int) (len(Binary_String)/len(Binary_key))\n",
        "  L=(len(Binary_String)%len(Binary_key))\n",
        "  M=0\n",
        "  for i in range(K):\n",
        "    WrapKey+=Binary_key\n",
        "\n",
        "  for i in range(L):\n",
        "    WrapKey+=Binary_key[i]\n",
        "\n",
        "  # print(len(WrapKey))\n",
        "  assert(len(WrapKey)==len(Binary_String))\n",
        "  Decoded=[str(int(Binary_String[i])^int(WrapKey[i])) for i in range(len(WrapKey))]\n",
        "  DECODED=''\n",
        "  for i in range(len(Decoded)):\n",
        "    DECODED+=Decoded[i]\n",
        "  Decoded=DECODED\n",
        "  print(Binary_String)\n",
        "  print(WrapKey)\n",
        "  print(Decoded)\n",
        "  bts = bitarray(Decoded)\n",
        "  ascs = bts.tobytes().decode('ascii')\n",
        "  return ascs\n",
        "#Using our extracted key, we then proceed to get the original text using this code\n"
      ],
      "metadata": {
        "id": "mrGSJJRoMAZ1"
      },
      "execution_count": 73,
      "outputs": []
    },
    {
      "cell_type": "code",
      "source": [
        "print(HEXKEY)\n",
        "print(DECODE(ciphertext,None,HEXKEY))\n",
        "#Almost perfect"
      ],
      "metadata": {
        "colab": {
          "base_uri": "https://localhost:8080/"
        },
        "id": "jhKPY221iyp6",
        "outputId": "ffbbc757-d1b2-454f-c8b2-30377f5fb28d"
      },
      "execution_count": 74,
      "outputs": [
        {
          "output_type": "stream",
          "name": "stdout",
          "text": [
            "BA1F91B353CA3E\n",
            "1111100101101101111010001100001000100111101000100101100111001000011111101110000111011010001010101110110101010111110010010011111111100101110110100011011011101101010011101100100001111110111100101100011000111010101011100101101110011010011111101111111111010110011100111011111001001010110011110111101111101000100100100011110010101011000111101100111001111010111100101101101000111101101001000100111111001111011110101110001010010010001101011010001001001100100101100011111111110000110111110011110010100011010110011001101001110000111001011101101000110110101111110001111011001110011101111111100011011100001101001011111000010010100110100110110011110100110100010010011010111111010110111001101001111100111111101101111100111110101110000101000011010011011111001111000011000110001110101010001001010000100110100111011011111111100100100010011110100101010110111001101001101111111000111101011100100000101010000101000011011001011110101011000111011101001101011110110101011111110011100110101111110000110100010011100010101000010011001100100100110001101100011111000100100001101101000100111011001110011100001111011011000000001100101011110101010110110000110011111111111001110100110010000011101101010111001101111101111010111111111001001000100110101111100101101111011110001111111111011111011101001000011110110101010110110011110111000111110101110000000011011010101001010011011001011000111111111110001101010001110011101000110101000111001110001111111110010111011010001111001011100001001101110110110111000111110101110000010111111111101101010100011101110000111111111010001101011100110010101111110100110110010110001111111111001111000111001001111110110101001010110010000111111011110101110110110010011110100100010100011101010001111110111111011001001000110000101111110100011111001010011010111111111011000001001010101011111001001010110111110111001011100010100100100010010010101000010011001101111100111111111101011101011100100000101001000101100111010100011110101111010110010010001100101010001101011010100110100111101011100111110100110011111110111000010111111100111001111010111101011001001000111010101000110001111011011011001111111111011111010011001110101011111101010010110000110011111111110000110101100111001110100101010100011101100100111111111111001101001100111101101000110101101111001000001100011011000111110100001111001011111100011110110111110110011111110000110111110010001110100001010110111001011000111111111001011101101000110110111011010110100011010011011110001111010011011100001101101011111101011011100110100111101011111111110100010010000110110100010011101100111001110110111111101101110001110011101111100101110111010010011110101111110011010111011100111011101001011111110010010011111111100101110110100011110010111000010110011101001001101011101100011100011000111100111011010101110011011111001111111110001011010111001100001011100001001100110111110011111111110111110111010010000111101101010110101101111101111100111100001101011000110110101111100001111011011011011110011110010111010111001000011110110101010111110011100011111111100110110100110010000011101101010101111101010001101001111101001101110000100111101010000101101010010110001111111111001111000111001001111110110101001001110111110011111111111111110111010010010011101101010101011101010001110000111001101001111001110011101011000101000011011110001111111110010111011010001110101011111000011110110111110110011111110100110000000011000010100100010011011101111100111111111101011101011100111110101000100101000011001001011010111110001111010011001001111010100001001101100101100011111111100101110110100011001010111001000111101101001101101011101100011101000100110010101000110001111011011000011110101011000111010000001000011010001001010101110111110111000110110001110001000011011010111111010001111001101001111010111100001100000100111010101000010100011110010100\n",
            "1011101000011111100100011011001101010011110010100011111010111010000111111001000110110011010100111100101000111110101110100001111110010001101100110101001111001010001111101011101000011111100100011011001101010011110010100011111010111010000111111001000110110011010100111100101000111110101110100001111110010001101100110101001111001010001111101011101000011111100100011011001101010011110010100011111010111010000111111001000110110011010100111100101000111110101110100001111110010001101100110101001111001010001111101011101000011111100100011011001101010011110010100011111010111010000111111001000110110011010100111100101000111110101110100001111110010001101100110101001111001010001111101011101000011111100100011011001101010011110010100011111010111010000111111001000110110011010100111100101000111110101110100001111110010001101100110101001111001010001111101011101000011111100100011011001101010011110010100011111010111010000111111001000110110011010100111100101000111110101110100001111110010001101100110101001111001010001111101011101000011111100100011011001101010011110010100011111010111010000111111001000110110011010100111100101000111110101110100001111110010001101100110101001111001010001111101011101000011111100100011011001101010011110010100011111010111010000111111001000110110011010100111100101000111110101110100001111110010001101100110101001111001010001111101011101000011111100100011011001101010011110010100011111010111010000111111001000110110011010100111100101000111110101110100001111110010001101100110101001111001010001111101011101000011111100100011011001101010011110010100011111010111010000111111001000110110011010100111100101000111110101110100001111110010001101100110101001111001010001111101011101000011111100100011011001101010011110010100011111010111010000111111001000110110011010100111100101000111110101110100001111110010001101100110101001111001010001111101011101000011111100100011011001101010011110010100011111010111010000111111001000110110011010100111100101000111110101110100001111110010001101100110101001111001010001111101011101000011111100100011011001101010011110010100011111010111010000111111001000110110011010100111100101000111110101110100001111110010001101100110101001111001010001111101011101000011111100100011011001101010011110010100011111010111010000111111001000110110011010100111100101000111110101110100001111110010001101100110101001111001010001111101011101000011111100100011011001101010011110010100011111010111010000111111001000110110011010100111100101000111110101110100001111110010001101100110101001111001010001111101011101000011111100100011011001101010011110010100011111010111010000111111001000110110011010100111100101000111110101110100001111110010001101100110101001111001010001111101011101000011111100100011011001101010011110010100011111010111010000111111001000110110011010100111100101000111110101110100001111110010001101100110101001111001010001111101011101000011111100100011011001101010011110010100011111010111010000111111001000110110011010100111100101000111110101110100001111110010001101100110101001111001010001111101011101000011111100100011011001101010011110010100011111010111010000111111001000110110011010100111100101000111110101110100001111110010001101100110101001111001010001111101011101000011111100100011011001101010011110010100011111010111010000111111001000110110011010100111100101000111110101110100001111110010001101100110101001111001010001111101011101000011111100100011011001101010011110010100011111010111010000111111001000110110011010100111100101000111110101110100001111110010001101100110101001111001010001111101011101000011111100100011011001101010011110010100011111010111010000111111001000110110011010100111100101000111110101110100001111110010001101100110101001111001010001111101011101000011111100100011011001101010011110010100011111010111010\n",
            "0100001101110010011110010111000101110100011010000110011101110010011000010111000001101001011110010010011101101001011100110010000001110100011010010110010100100111011100000111001001100001011000110111010101101001011001000110010100100000011000010110111001100101001000000111010001110100011101010110010001111001001000010110111101100001001000000111010001100101011000110110100101101110011011100111000101110101011001010111001100100001011001100110100001110010001011000010000001100001011011000110111101101001011001110010000001101111011101000110100101100101011101010010000001110100011010000110100101101111011001110111010000101100001000000111001101100101011000100111010101110101011001010010000001100011011011110110110001101101011100100110111001101001011000110110000101110101011010010110100001101110001000000110100101101110001000010111010001101111011001010010000001110000011100100110010001110011011000100110111001100011011001010010000001101110011001100010011101100001011101000111010001100001011000100110101101100010011100100111001100101110001000000100001001110010011111100111000001110100011011110110011101110011011000010111011101101000011110010010000001101000011000000111001100100111011000100110010101100101011011100010000101110101011101000110010101100100001000000110011001101110011100100010011101101000011101010110111001100100011100110110010101100011011100110010110000100000011010010110011100100000011010010110111101110100001000000111010001101001011011110111001001110011011000010110111001100100011100100010110000100111011011110110011000100000011110010110010001100001011101010111001100101100001000000110001001110100011101000010011101110100011100100110000101100100011010000111010001101110011011110110111001100001011011000010000101100011011101010111100101110000011101000110111101110010011110010111010001110100011001010110110101110011001000010111011101100010011100100110010100100000011001000110010001110011011011100110011101101110011001010110010000100001011000010110100101100100001000000110010101110110011000000110110001110010011000010111010001100101011001000010000101101001011010010010000001100001001000000110011001100000011010010111010101101100011110010010000001100001011001010010000001101111011011110110001100100000011011010110000001101110011010010110010101110010001011100010000001000111011011110111010100100000011001010111100001100001011011000111000001101011011001010010110000100000011101000110100101100101001001110101011001101001011001110110010101101111011001010111010101100101001000000110010101101110011000100111001001111110011100000111010001101001011011110110111100100000011101000110001101101000011001010110110101100100001000000111000001100001011100110010000001110100011010010110111101110010011001110110100001110100001000000111010101101111001001110110001001100101001000000111001101100100011000110111001001110010011001010010000001100110011011100111001000100111011001000110010101100011011000010110010101100101011101000010000001100001011001100111010001100100011100100010011101101001011101000010000001110111011000000111001100100111011010010110111001110110011001010110111101110100011000100110010000101100001000000110001001110100011101000010011101110111011001010010000001101110011011100111011100100111011010110110111001101111011101110010110100100000011001100110111001100100001000000111010001101001011010010111010000100000011001010111100001100101011100110110001101101110011100110110010100100000011001000110010001101101011010000110111001110011011101000111001001100000011101000110001001110011001011000010000001110100011010010110000101110011001000000110100101110100001000000110001001100001011010010010000001100010011001010010000001100011011100100110100001101011011001010110111000100000011101110110010101110101011110010010000001100101011000010111001001101001011010110111100100101110\n",
            "Cryqthgrapiy'is tie'pracuide ane ttudy!oa tecinnques!fhr, aloig otieu thiogt, sebuue colmrnicauihn in!toe prdsbnce nf'attabkbrs. Br~ptogsawhy h`s'been!uted fnr'hundsecs, ig iot tiorsandr,'of ydaus, btt'tradhtnonal!cuyptoryttems!wbre ddsngned!aid ev`lrated!ii a f`iuly ae ooc m`nier. Gou exalpke, tie'Vigeoeue enbr~ptioo tchemd pas tiorght uo'be sdcrre fnr'decaeet aftdr'it w`s'inveotbd, btt'we nnw'know- fnd tiit exescnse ddmhnstr`tbs, tias it bai be crhken weuy eariky.\n"
          ]
        }
      ]
    },
    {
      "cell_type": "code",
      "source": [
        "#Modify HexKey to clean the word:\n",
        "#p=112 #o=111 B3^M=112 CA^N=111 M=1A N=CD\n",
        "\n",
        "HEXKEY='BA1F91B253CD3E'\n",
        "print(ciphertext)\n",
        "print(DECODE(ciphertext,None,HEXKEY))"
      ],
      "metadata": {
        "colab": {
          "base_uri": "https://localhost:8080/"
        },
        "id": "qqNz_w9giu9z",
        "outputId": "10e9e18b-51f3-4579-e724-24317b802ef5"
      },
      "execution_count": 75,
      "outputs": [
        {
          "output_type": "stream",
          "name": "stdout",
          "text": [
            "F96DE8C227A259C87EE1DA2AED57C93FE5DA36ED4EC87EF2C63AAE5B9A7EFFD673BE4ACF7BE8923CAB1ECE7AF2DA3DA44FCF7AE29235A24C963FF0DF3CA3599A70E5DA36BF1ECE77F8DC34BE129A6CF4D126BF5B9A7CFEDF3EB850D37CF0C63AA2509A76FF9227A55B9A6FE3D720A850D97AB1DD35ED5FCE6BF0D138A84CC931B1F121B44ECE70F6C032BD56C33FF9D320ED5CDF7AFF9226BE5BDE3FF7DD21ED56CF71F5C036A94D963FF8D473A351CE3FE5DA3CB84DDB71F5C17FED51DC3FE8D732BF4D963FF3C727ED4AC87EF5DB27A451D47EFD9230BF47CA6BFEC12ABE4ADF72E29224A84CDF3FF5D720A459D47AF59232A35A9A7AE7D33FB85FCE7AF5923AA31EDB3FF7D33ABF52C33FF0D673A551D93FFCD33DA35BC831B1F43CBF1EDF67F0DF23A15B963FE5DA36ED68D378F4DC36BF5B9A7AFFD121B44ECE76FEDC73BE5DD27AFCD773BA5FC93FE5DA3CB859D26BB1C63CED5CDF3FE2D730B84CDF3FF7DD21ED5ADF7CF0D636BE1EDB79E5D721ED57CE3FE6D320ED57D469F4DC27A85A963FF3C727ED49DF3FFFDD24ED55D470E69E73AC50DE3FE5DA3ABE1EDF67F4C030A44DDF3FF5D73EA250C96BE3D327A84D963FE5DA32B91ED36BB1D132A31ED87AB1D021A255DF71B1C436BF479A7AF0C13AA14794\n",
            "1111100101101101111010001100001000100111101000100101100111001000011111101110000111011010001010101110110101010111110010010011111111100101110110100011011011101101010011101100100001111110111100101100011000111010101011100101101110011010011111101111111111010110011100111011111001001010110011110111101111101000100100100011110010101011000111101100111001111010111100101101101000111101101001000100111111001111011110101110001010010010001101011010001001001100100101100011111111110000110111110011110010100011010110011001101001110000111001011101101000110110101111110001111011001110011101111111100011011100001101001011111000010010100110100110110011110100110100010010011010111111010110111001101001111100111111101101111100111110101110000101000011010011011111001111000011000110001110101010001001010000100110100111011011111111100100100010011110100101010110111001101001101111111000111101011100100000101010000101000011011001011110101011000111011101001101011110110101011111110011100110101111110000110100010011100010101000010011001100100100110001101100011111000100100001101101000100111011001110011100001111011011000000001100101011110101010110110000110011111111111001110100110010000011101101010111001101111101111010111111111001001000100110101111100101101111011110001111111111011111011101001000011110110101010110110011110111000111110101110000000011011010101001010011011001011000111111111110001101010001110011101000110101000111001110001111111110010111011010001111001011100001001101110110110111000111110101110000010111111111101101010100011101110000111111111010001101011100110010101111110100110110010110001111111111001111000111001001111110110101001010110010000111111011110101110110110010011110100100010100011101010001111110111111011001001000110000101111110100011111001010011010111111111011000001001010101011111001001010110111110111001011100010100100100010010010101000010011001101111100111111111101011101011100100000101001000101100111010100011110101111010110010010001100101010001101011010100110100111101011100111110100110011111110111000010111111100111001111010111101011001001000111010101000110001111011011011001111111111011111010011001110101011111101010010110000110011111111110000110101100111001110100101010100011101100100111111111111001101001100111101101000110101101111001000001100011011000111110100001111001011111100011110110111110110011111110000110111110010001110100001010110111001011000111111111001011101101000110110111011010110100011010011011110001111010011011100001101101011111101011011100110100111101011111111110100010010000110110100010011101100111001110110111111101101110001110011101111100101110111010010011110101111110011010111011100111011101001011111110010010011111111100101110110100011110010111000010110011101001001101011101100011100011000111100111011010101110011011111001111111110001011010111001100001011100001001100110111110011111111110111110111010010000111101101010110101101111101111100111100001101011000110110101111100001111011011011011110011110010111010111001000011110110101010111110011100011111111100110110100110010000011101101010101111101010001101001111101001101110000100111101010000101101010010110001111111111001111000111001001111110110101001001110111110011111111111111110111010010010011101101010101011101010001110000111001101001111001110011101011000101000011011110001111111110010111011010001110101011111000011110110111110110011111110100110000000011000010100100010011011101111100111111111101011101011100111110101000100101000011001001011010111110001111010011001001111010100001001101100101100011111111100101110110100011001010111001000111101101001101101011101100011101000100110010101000110001111011011000011110101011000111010000001000011010001001010101110111110111000110110001110001000011011010111111010001111001101001111010111100001100000100111010101000010100011110010100\n",
            "1011101000011111100100011011001001010011110011010011111010111010000111111001000110110010010100111100110100111110101110100001111110010001101100100101001111001101001111101011101000011111100100011011001001010011110011010011111010111010000111111001000110110010010100111100110100111110101110100001111110010001101100100101001111001101001111101011101000011111100100011011001001010011110011010011111010111010000111111001000110110010010100111100110100111110101110100001111110010001101100100101001111001101001111101011101000011111100100011011001001010011110011010011111010111010000111111001000110110010010100111100110100111110101110100001111110010001101100100101001111001101001111101011101000011111100100011011001001010011110011010011111010111010000111111001000110110010010100111100110100111110101110100001111110010001101100100101001111001101001111101011101000011111100100011011001001010011110011010011111010111010000111111001000110110010010100111100110100111110101110100001111110010001101100100101001111001101001111101011101000011111100100011011001001010011110011010011111010111010000111111001000110110010010100111100110100111110101110100001111110010001101100100101001111001101001111101011101000011111100100011011001001010011110011010011111010111010000111111001000110110010010100111100110100111110101110100001111110010001101100100101001111001101001111101011101000011111100100011011001001010011110011010011111010111010000111111001000110110010010100111100110100111110101110100001111110010001101100100101001111001101001111101011101000011111100100011011001001010011110011010011111010111010000111111001000110110010010100111100110100111110101110100001111110010001101100100101001111001101001111101011101000011111100100011011001001010011110011010011111010111010000111111001000110110010010100111100110100111110101110100001111110010001101100100101001111001101001111101011101000011111100100011011001001010011110011010011111010111010000111111001000110110010010100111100110100111110101110100001111110010001101100100101001111001101001111101011101000011111100100011011001001010011110011010011111010111010000111111001000110110010010100111100110100111110101110100001111110010001101100100101001111001101001111101011101000011111100100011011001001010011110011010011111010111010000111111001000110110010010100111100110100111110101110100001111110010001101100100101001111001101001111101011101000011111100100011011001001010011110011010011111010111010000111111001000110110010010100111100110100111110101110100001111110010001101100100101001111001101001111101011101000011111100100011011001001010011110011010011111010111010000111111001000110110010010100111100110100111110101110100001111110010001101100100101001111001101001111101011101000011111100100011011001001010011110011010011111010111010000111111001000110110010010100111100110100111110101110100001111110010001101100100101001111001101001111101011101000011111100100011011001001010011110011010011111010111010000111111001000110110010010100111100110100111110101110100001111110010001101100100101001111001101001111101011101000011111100100011011001001010011110011010011111010111010000111111001000110110010010100111100110100111110101110100001111110010001101100100101001111001101001111101011101000011111100100011011001001010011110011010011111010111010000111111001000110110010010100111100110100111110101110100001111110010001101100100101001111001101001111101011101000011111100100011011001001010011110011010011111010111010000111111001000110110010010100111100110100111110101110100001111110010001101100100101001111001101001111101011101000011111100100011011001001010011110011010011111010111010000111111001000110110010010100111100110100111110101110100001111110010001101100100101001111001101001111101011101000011111100100011011001001010011110011010011111010111010\n",
            "0100001101110010011110010111000001110100011011110110011101110010011000010111000001101000011110010010000001101001011100110010000001110100011010000110010100100000011100000111001001100001011000110111010001101001011000110110010100100000011000010110111001100100001000000111001101110100011101010110010001111001001000000110111101100110001000000111010001100101011000110110100001101110011010010111000101110101011001010111001100100000011001100110111101110010001011000010000001100001011011010110111101101110011001110010000001101111011101000110100001100101011100100010000001110100011010000110100101101110011001110111001100101100001000000111001101100101011000110111010101110010011001010010000001100011011011110110110101101101011101010110111001101001011000110110000101110100011010010110111101101110001000000110100101101110001000000111010001101000011001010010000001110000011100100110010101110011011001010110111001100011011001010010000001101111011001100010000001100001011101000111010001100001011000110110101101100101011100100111001100101110001000000100001101110010011110010111000001110100011011110110011101110010011000010111000001101000011110010010000001101000011000010111001100100000011000100110010101100101011011100010000001110101011100110110010101100100001000000110011001101111011100100010000001101000011101010110111001100100011100100110010101100100011100110010110000100000011010010110011000100000011011100110111101110100001000000111010001101000011011110111010101110011011000010110111001100100011100110010110000100000011011110110011000100000011110010110010101100001011100100111001100101100001000000110001001110101011101000010000001110100011100100110000101100100011010010111010001101001011011110110111001100001011011000010000001100011011100100111100101110000011101000110111101110011011110010111001101110100011001010110110101110011001000000111011101100101011100100110010100100000011001000110010101110011011010010110011101101110011001010110010000100000011000010110111001100100001000000110010101110110011000010110110001110101011000010111010001100101011001000010000001101001011011100010000001100001001000000110011001100001011010010111001001101100011110010010000001100001011001000010000001101000011011110110001100100000011011010110000101101110011011100110010101110010001011100010000001000110011011110111001000100000011001010111100001100001011011010111000001101100011001010010110000100000011101000110100001100101001000000101011001101001011001110110010101101110011001010111001001100101001000000110010101101110011000110111001001111001011100000111010001101001011011110110111000100000011100110110001101101000011001010110110101100101001000000111011101100001011100110010000001110100011010000110111101110101011001110110100001110100001000000111010001101111001000000110001001100101001000000111001101100101011000110111010101110010011001010010000001100110011011110111001000100000011001000110010101100011011000010110010001100101011100110010000001100001011001100111010001100101011100100010000001101001011101000010000001110111011000010111001100100000011010010110111001110110011001010110111001110100011001010110010000101100001000000110001001110101011101000010000001110111011001010010000001101110011011110111011100100000011010110110111001101111011101110010110000100000011000010110111001100100001000000111010001101000011010010111001100100000011001010111100001100101011100100110001101101001011100110110010100100000011001000110010101101101011011110110111001110011011101000111001001100001011101000110010101110011001011000010000001110100011010000110000101110100001000000110100101110100001000000110001101100001011011100010000001100010011001010010000001100010011100100110111101101011011001010110111000100000011101100110010101110010011110010010000001100101011000010111001101101001011011000111100100101110\n",
            "Cryptography is the practice and study of techniques for, among other things, secure communication in the presence of attackers. Cryptography has been used for hundreds, if not thousands, of years, but traditional cryptosystems were designed and evaluated in a fairly ad hoc manner. For example, the Vigenere encryption scheme was thought to be secure for decades after it was invented, but we now know, and this exercise demonstrates, that it can be broken very easily.\n"
          ]
        }
      ]
    },
    {
      "cell_type": "markdown",
      "source": [
        "# Final Text:\n",
        "\n",
        "Cryptography is the practice and study of techniques for, among other things, secure communication in the presence of attackers. Cryptography has been used for hundreds, if not thousands, of years, but traditional cryptosystems were designed and evaluated in a fairly ad hoc manner. For example, the Vigenere encryption scheme was thought to be secure for decades after it was invented, but we now know, and this exercise demonstrates, that it can be broken very easily."
      ],
      "metadata": {
        "id": "V85DzXVRqX2p"
      }
    }
  ]
}