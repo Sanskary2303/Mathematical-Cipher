{
 "cells": [
  {
   "cell_type": "code",
   "execution_count": 2,
   "id": "378264e2-8299-414b-9cc9-1828eee270e1",
   "metadata": {},
   "outputs": [
    {
     "name": "stdin",
     "output_type": "stream",
     "text": [
      "Enter your cipher text:  F96DE8C227A259C87EE1DA2AED57C93FE5DA36ED4EC87EF2C63AAE5B9A7EFFD673BE4ACF7BE89  23CAB1ECE7AF2DA3DA44FCF7AE29235A24C963FF0DF3CA3599A70E5DA36BF1ECE77F8DC34BE12  9A6CF4D126BF5B9A7CFEDF3EB850D37CF0C63AA2509A76FF9227A55B9A6FE3D720A850D97AB1D  D35ED5FCE6BF0D138A84CC931B1F121B44ECE70F6C032BD56C33FF9D320ED5CDF7AFF9226BE5B  DE3FF7DD21ED56CF71F5C036A94D963FF8D473A351CE3FE5DA3CB84DDB71F5C17FED51DC3FE8D  732BF4D963FF3C727ED4AC87EF5DB27A451D47EFD9230BF47CA6BFEC12ABE4ADF72E29224A84C  DF3FF5D720A459D47AF59232A35A9A7AE7D33FB85FCE7AF5923AA31EDB3FF7D33ABF52C33FF0D  673A551D93FFCD33DA35BC831B1F43CBF1EDF67F0DF23A15B963FE5DA36ED68D378F4DC36BF5B  9A7AFFD121B44ECE76FEDC73BE5DD27AFCD773BA5FC93FE5DA3CB859D26BB1C63CED5CDF3FE2D  730B84CDF3FF7DD21ED5ADF7CF0D636BE1EDB79E5D721ED57CE3FE6D320ED57D469F4DC27A85A  963FF3C727ED49DF3FFFDD24ED55D470E69E73AC50DE3FE5DA3ABE1EDF67F4C030A44DDF3FF5D  73EA250C96BE3D327A84D963FE5DA32B91ED36BB1D132A31ED87AB1D021A255DF71B1C436BF47  9A7AF0C13AA14794\n"
     ]
    }
   ],
   "source": [
    "import numpy as np\n",
    "ciph = input('Enter your cipher text:')\n",
    "c=0\n",
    "ciph=ciph.replace(\" \",\"\")\n",
    "cph=\"\"\n",
    "bi=\"\"\n",
    "lt=[]\n",
    "for ch in ciph:\n",
    "    c=c+1\n",
    "    cph=cph+ch\n",
    "    if c%2==0 and c!=0:\n",
    "        lt.append(int(cph, 16))\n",
    "        cph=\"\""
   ]
  },
  {
   "cell_type": "markdown",
   "id": "230bc6d1-b416-4a50-9cca-75cba8050fe8",
   "metadata": {},
   "source": [
    "Calculating key length"
   ]
  },
  {
   "cell_type": "code",
   "execution_count": 3,
   "id": "61f281d6-21bb-4743-9c5e-ce095013e7e1",
   "metadata": {},
   "outputs": [
    {
     "name": "stdout",
     "output_type": "stream",
     "text": [
      "[0.013535536441828873, 0.01385242191036668, 0.019108280254777097, 0.017380063200229834, 0.024445450430058836, 0.019708380067296895, 0.0860726643598616, 0.024992818155702378, 0.02954788180847275]\n",
      "7\n"
     ]
    }
   ],
   "source": [
    "lst=[]\n",
    "for k in range(1,10):\n",
    "    count=np.zeros(256, dtype=int)\n",
    "    for i in lt[::k]:\n",
    "        count[i]+=1\n",
    "    sq_sum=[(i/sum(count))**2 for i in count]\n",
    "    lst.append(sum(sq_sum))\n",
    "print(lst)\n",
    "key_length = lst.index(max(lst))+1\n",
    "print(key_length)"
   ]
  },
  {
   "cell_type": "markdown",
   "id": "1dd20647-8cf4-4364-9173-af0328995e47",
   "metadata": {},
   "source": [
    "Checking the possible bytes for key"
   ]
  },
  {
   "cell_type": "code",
   "execution_count": 4,
   "id": "af617ec1-fbab-4d61-9540-144aa26f9106",
   "metadata": {},
   "outputs": [
    {
     "name": "stdout",
     "output_type": "stream",
     "text": [
      "[177, 186]\n",
      "[27, 31, 90]\n",
      "[144, 145, 149, 154, 212]\n",
      "[178, 180, 182, 184, 185, 191]\n",
      "[22, 83, 87, 89, 95]\n",
      "[136, 193, 198, 199, 205]\n",
      "[52, 53, 60, 62]\n"
     ]
    }
   ],
   "source": [
    "for i in range(0,7):\n",
    "    e_perc = np.zeros(256, dtype = int)\n",
    "    possible = []\n",
    "    for sft in range(0,256):\n",
    "        prob = [j^sft for j in lt[i::7]]\n",
    "        ee= prob.count(101)/len(prob)\n",
    "        if 32 <= min(prob) < 48 and 57 < max(prob) <= 127 and ee > 0.05:\n",
    "            e_perc[sft] = ee\n",
    "            possible.append(sft)\n",
    "\n",
    "    print(possible)"
   ]
  },
  {
   "cell_type": "markdown",
   "id": "90c599dc-41e2-4591-8bdb-fe9af09a49a1",
   "metadata": {},
   "source": [
    "Manually checking the keys from the above list of possible keys."
   ]
  },
  {
   "cell_type": "code",
   "execution_count": 22,
   "id": "9353840e-dacb-4f19-b32e-4d64f1b0155b",
   "metadata": {},
   "outputs": [
    {
     "name": "stdout",
     "output_type": "stream",
     "text": [
      "Cryptography is the practice and study of techniques for, among other things, secure communication in the presence of attackers. Cryptography has been used for hundreds, if not thousands, of years, but traditional cryptosystems were designed and evaluated in a fairly ad hoc manner. For example, the Vigenere encryption scheme was thought to be secure for decades after it was invented, but we now know, and this exercise demonstrates, that it can be broken very easily.\n"
     ]
    }
   ],
   "source": [
    "keys=[186,31,145,178,83,205,62]\n",
    "ans=[]\n",
    "s=''\n",
    "for i in range(len(lt)):\n",
    "    k = keys[i%7]^lt[i]\n",
    "    ans.append(k)\n",
    "    s+=chr(k)\n",
    "print(s)"
   ]
  },
  {
   "cell_type": "code",
   "execution_count": null,
   "id": "3bdef52b-346e-4b03-9149-74ddb5da8234",
   "metadata": {},
   "outputs": [],
   "source": []
  }
 ],
 "metadata": {
  "kernelspec": {
   "display_name": "Python 3 (ipykernel)",
   "language": "python",
   "name": "python3"
  },
  "language_info": {
   "codemirror_mode": {
    "name": "ipython",
    "version": 3
   },
   "file_extension": ".py",
   "mimetype": "text/x-python",
   "name": "python",
   "nbconvert_exporter": "python",
   "pygments_lexer": "ipython3",
   "version": "3.9.9"
  }
 },
 "nbformat": 4,
 "nbformat_minor": 5
}
