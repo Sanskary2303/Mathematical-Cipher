{
 "cells": [
  {
   "cell_type": "code",
   "execution_count": null,
   "id": "0aecf329-ff2b-489f-8603-a8894213480d",
   "metadata": {},
   "outputs": [],
   "source": [
    "from Crypto.Random import get_random_bytes\n",
    "from Crypto.Cipher import AES\n",
    "from Crypto.Protocol.KDF import PBKDF2\n",
    "from Crypto.Util.Padding import pad, unpad\n",
    "\n",
    "salt = get_random_bytes(32)\n",
    "password = \"pass123\"\n",
    "\n",
    "key = PBKDF2(password,salt, dkLen=32)\n",
    "cipher = AES.new(key,AES.MODE_CBC)"
   ]
  },
  {
   "cell_type": "code",
   "execution_count": null,
   "id": "b184e4be-d1bd-443f-92ca-1f4d1c3aa6d5",
   "metadata": {},
   "outputs": [],
   "source": [
    "def aes_encrypt(mssg, key):\n",
    "    ciphered_data = cipher.encrypt(pad(message.encode(),AES.block_size))\n",
    "    return ciphered_data"
   ]
  },
  {
   "cell_type": "code",
   "execution_count": null,
   "id": "8f1f18cb-3138-4204-b266-a1092088f94b",
   "metadata": {},
   "outputs": [],
   "source": [
    "import rsa\n",
    "public_key, private_key = rsa.newkeys(1024)\n",
    "\n",
    "encrypted_key = rsa.encrypt(key.encode(), public_key)"
   ]
  },
  {
   "cell_type": "code",
   "execution_count": null,
   "id": "ee1a33b6-6226-4478-9083-d5c49829dde0",
   "metadata": {},
   "outputs": [],
   "source": [
    "fileR = open(\"data.txt\", \"rb\")\n",
    " \n",
    "chunk = 0\n",
    " \n",
    "byte = fileR.read(16)\n",
    "while byte:\n",
    " \n",
    "    # Open a temporary file and write a chunk of bytes\n",
    "    fileN = \"chunk\" + str(chunk) + \".txt\"\n",
    "    fileT = open(fileN, \"wb\")\n",
    "    fileT.write(byte)\n",
    "    fileT.close()\n",
    "\n",
    "    #For Encryption\n",
    "    mssg = open(fileN, 'r').read()\n",
    "\n",
    "    fileX = \"encrypted_chunk\" + str(chunk) + \".txt\"\n",
    "    fileT = open(fileX, \"wb\")\n",
    "    fileT.write(aes_encrypt(mssg, key))\n",
    "    # Read next 16 bytes\n",
    "    byte = fileR.read(16)\n",
    " \n",
    "    chunk += 1"
   ]
  },
  {
   "cell_type": "code",
   "execution_count": null,
   "id": "20492512-6c8f-4f88-86d3-4e4cd0d7f8d1",
   "metadata": {},
   "outputs": [],
   "source": [
    "def aes_decrypt(ciphered_data, key):\n",
    "    mssg = unpad(cipher.decrypt(ciphered_data), AES.block_size)\n",
    "    return mssg"
   ]
  },
  {
   "cell_type": "code",
   "execution_count": null,
   "id": "c6ecf1cd-140d-429c-8cb9-3ee5a79363a0",
   "metadata": {},
   "outputs": [],
   "source": [
    "import rsa\n",
    "\n",
    "decrypted_key = rsa.decrypt(encrypted_key, private_key).decode()\n",
    "\n",
    "mssg = \"\"\n",
    "for i in range(1, chunk):\n",
    "    fileN =  \"chunk\" + str(i) + \".txt\"\n",
    "    ciphered_data = open(fileN, 'r').read()\n",
    "    mssg = mssg + aes_decrypt(ciphered_data, decrypted_key)\n",
    "with open(\"decrypted_file.txt\", \"w\") as file:\n",
    "    file.write(mssg)"
   ]
  }
 ],
 "metadata": {
  "kernelspec": {
   "display_name": "Python 3 (ipykernel)",
   "language": "python",
   "name": "python3"
  },
  "language_info": {
   "codemirror_mode": {
    "name": "ipython",
    "version": 3
   },
   "file_extension": ".py",
   "mimetype": "text/x-python",
   "name": "python",
   "nbconvert_exporter": "python",
   "pygments_lexer": "ipython3",
   "version": "3.9.9"
  }
 },
 "nbformat": 4,
 "nbformat_minor": 5
}
