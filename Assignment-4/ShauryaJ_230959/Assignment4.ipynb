{
  "nbformat": 4,
  "nbformat_minor": 0,
  "metadata": {
    "colab": {
      "provenance": []
    },
    "kernelspec": {
      "name": "python3",
      "display_name": "Python 3"
    },
    "language_info": {
      "name": "python"
    }
  },
  "cells": [
    {
      "cell_type": "code",
      "source": [
        "!pip install pycryptodome\n",
        "from Crypto.Cipher import AES, PKCS1_OAEP\n",
        "from Crypto.PublicKey import RSA\n",
        "from Crypto.Random import get_random_bytes\n",
        "import os"
      ],
      "metadata": {
        "colab": {
          "base_uri": "https://localhost:8080/"
        },
        "id": "7d-DsF5Rf9QV",
        "outputId": "c63ae6ff-ff9a-4da4-fbc2-01c1545564d4"
      },
      "execution_count": 2,
      "outputs": [
        {
          "output_type": "stream",
          "name": "stdout",
          "text": [
            "Requirement already satisfied: pycryptodome in /usr/local/lib/python3.10/dist-packages (3.20.0)\n"
          ]
        }
      ]
    },
    {
      "cell_type": "code",
      "execution_count": 7,
      "metadata": {
        "id": "RmYWjl9QfHer"
      },
      "outputs": [],
      "source": [
        "def generate_rsa_keys():\n",
        "    # The cryptographic strength is primarily linked to the length of the RSA modulus n. In 2023, a sufficient length is deemed to be 3072 bits.\n",
        "    key = RSA.generate(3072)\n",
        "    private_key = key.export_key()\n",
        "    public_key = key.publickey().export_key()\n",
        "    return private_key, public_key\n",
        "\n",
        "def save_file(filename, data):\n",
        "    with open(filename, 'wb') as file:\n",
        "        file.write(data)\n",
        "\n",
        "def load_file(filename):\n",
        "    with open(filename, 'rb') as file:\n",
        "        return file.read()\n",
        "\n",
        "def split_file(file_path, chunk_size):\n",
        "    with open(file_path, 'rb') as f:\n",
        "        chunk_num = 0\n",
        "        while True:\n",
        "            chunk = f.read(chunk_size)\n",
        "            if not chunk:\n",
        "                break\n",
        "            yield chunk_num, chunk\n",
        "            chunk_num += 1\n",
        "\n",
        "\n",
        "\n",
        "\n"
      ]
    },
    {
      "cell_type": "code",
      "source": [
        "def encrypt_chunk(chunk, aes_key):\n",
        "    cipher = AES.new(aes_key, AES.MODE_EAX)\n",
        "    ciphertext, tag = cipher.encrypt_and_digest(chunk)\n",
        "    return cipher.nonce, tag, ciphertext\n",
        "\n",
        "def decrypt_chunk(nonce, tag, ciphertext, aes_key):\n",
        "    cipher = AES.new(aes_key, AES.MODE_EAX, nonce=nonce)\n",
        "    chunk = cipher.decrypt_and_verify(ciphertext, tag)\n",
        "    return chunk\n",
        "\n",
        "def rsa_encrypt(data, public_key):\n",
        "    rsa_key = RSA.import_key(public_key)\n",
        "    cipher_rsa = PKCS1_OAEP.new(rsa_key)\n",
        "    return cipher_rsa.encrypt(data)\n",
        "\n",
        "def rsa_decrypt(encrypted_data, private_key):\n",
        "    rsa_key = RSA.import_key(private_key)\n",
        "    cipher_rsa = PKCS1_OAEP.new(rsa_key)\n",
        "    return cipher_rsa.decrypt(encrypted_data)"
      ],
      "metadata": {
        "id": "UyRJ00eqgaB5"
      },
      "execution_count": 4,
      "outputs": []
    },
    {
      "cell_type": "code",
      "source": [
        "def main():\n",
        "    input_file = '/content/DemoText_Holmes.txt'\n",
        "    output_file = '/content/Decrypted.txt'\n",
        "    chunk_size = 2048 * 2048  # 4MB\n",
        "    # Our input file is less THAN 4 MB, So we should get 1 chunk\n",
        "    #Getting RSA keys\n",
        "    private_key, public_key = generate_rsa_keys()\n",
        "    save_file('private_key.pem', private_key)\n",
        "    save_file('public_key.pem', public_key)\n",
        "\n",
        "    # Split input files into chunks (with maximum memory of 1 MB)\n",
        "    encrypted_chunks = []\n",
        "    for chunk_num, chunk in split_file(input_file, chunk_size):\n",
        "        aes_key = get_random_bytes(32)  # AES-256 key\n",
        "        nonce, tag, ciphertext = encrypt_chunk(chunk, aes_key)\n",
        "        encrypted_aes_key = rsa_encrypt(aes_key, public_key)\n",
        "        encrypted_chunks.append((nonce, tag, ciphertext, encrypted_aes_key))\n",
        "\n",
        "        # Save each encrypted chunk\n",
        "        save_file(f'chunk_{chunk_num}.enc', nonce + tag + ciphertext)\n",
        "        save_file(f'chunk_key_{chunk_num}.enc', encrypted_aes_key)\n",
        "\n",
        "    # Decrypt and reassemble file\n",
        "    with open(output_file, 'wb') as out_file:\n",
        "        for chunk_num in range(len(encrypted_chunks)):\n",
        "            # Load encrypted chunk and AES key\n",
        "            encrypted_chunk = load_file(f'chunk_{chunk_num}.enc')\n",
        "            encrypted_aes_key = load_file(f'chunk_key_{chunk_num}.enc')\n",
        "\n",
        "            nonce = encrypted_chunk[:16]\n",
        "            tag = encrypted_chunk[16:32]\n",
        "            ciphertext = encrypted_chunk[32:]\n",
        "\n",
        "            # Decrypt AES key\n",
        "            aes_key = rsa_decrypt(encrypted_aes_key, private_key)\n",
        "\n",
        "            # Decrypt chunk\n",
        "            chunk = decrypt_chunk(nonce, tag, ciphertext, aes_key)\n",
        "\n",
        "            # Write chunk to output file\n",
        "            out_file.write(chunk)\n"
      ],
      "metadata": {
        "id": "w8zI2yZhfwOG"
      },
      "execution_count": 12,
      "outputs": []
    },
    {
      "cell_type": "code",
      "source": [
        "if __name__ == '__main__':\n",
        "    main()"
      ],
      "metadata": {
        "id": "Osdchy0mfo3T"
      },
      "execution_count": 13,
      "outputs": []
    }
  ]
}